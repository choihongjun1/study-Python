{
 "cells": [
  {
   "cell_type": "code",
   "execution_count": 1,
   "id": "707b804b",
   "metadata": {},
   "outputs": [
    {
     "name": "stdout",
     "output_type": "stream",
     "text": [
      "1\n",
      "2\n",
      "3\n"
     ]
    }
   ],
   "source": [
    "# 반복문\n",
    "\n",
    "for i in (1,2,3) :\n",
    "    print(i)"
   ]
  },
  {
   "cell_type": "code",
   "execution_count": 3,
   "id": "6cd85a24",
   "metadata": {},
   "outputs": [
    {
     "name": "stdout",
     "output_type": "stream",
     "text": [
      "하나\n",
      "둘\n",
      "셋\n"
     ]
    }
   ],
   "source": [
    "data = ['하나','둘','셋']\n",
    "for i in data :\n",
    "    print(i)"
   ]
  },
  {
   "cell_type": "code",
   "execution_count": 5,
   "id": "02aaa114",
   "metadata": {},
   "outputs": [
    {
     "name": "stdout",
     "output_type": "stream",
     "text": [
      "김구님은 대한민국의 위대한 위인이시고 자랑이십니다~!\n",
      "유관순님은 대한민국의 위대한 위인이시고 자랑이십니다~!\n",
      "이순신님은 대한민국의 위대한 위인이시고 자랑이십니다~!\n"
     ]
    }
   ],
   "source": [
    "data=['김구','유관순','이순신']\n",
    "for i in data :\n",
    "    print('%s님은 대한민국의 위대한 위인이시고 자랑이십니다~!' %i)"
   ]
  },
  {
   "cell_type": "code",
   "execution_count": 7,
   "id": "f403d5f5",
   "metadata": {},
   "outputs": [
    {
     "name": "stdout",
     "output_type": "stream",
     "text": [
      "밥 1 그릇 주세요~\n",
      "밥 2 그릇 주세요~\n",
      "밥 3 그릇 주세요~\n",
      "밥 4 그릇 주세요~\n"
     ]
    }
   ],
   "source": [
    "for i in range(1,5) :\n",
    "    print('밥 %s 그릇 주세요~' %i)"
   ]
  },
  {
   "cell_type": "code",
   "execution_count": 9,
   "id": "0accca61",
   "metadata": {},
   "outputs": [
    {
     "name": "stdin",
     "output_type": "stream",
     "text": [
      "출력을 원하시는 단을 입력하세요:  3\n"
     ]
    },
    {
     "name": "stdout",
     "output_type": "stream",
     "text": [
      "3  X  1 = 3\n",
      "3  X  2 = 6\n",
      "3  X  3 = 9\n",
      "3  X  4 = 12\n",
      "3  X  5 = 15\n",
      "3  X  6 = 18\n",
      "3  X  7 = 21\n",
      "3  X  8 = 24\n",
      "3  X  9 = 27\n"
     ]
    }
   ],
   "source": [
    "no = int(input('출력을 원하시는 단을 입력하세요: '))\n",
    "\n",
    "for i in range(1,10) :\n",
    "    print(no,' X ', i , '=' , no*i)"
   ]
  },
  {
   "cell_type": "code",
   "execution_count": 11,
   "id": "9b863384",
   "metadata": {},
   "outputs": [
    {
     "name": "stdin",
     "output_type": "stream",
     "text": [
      "숫자를 입력하세요: 8\n"
     ]
    },
    {
     "name": "stdout",
     "output_type": "stream",
     "text": [
      "2\n",
      "4\n",
      "6\n",
      "8\n"
     ]
    }
   ],
   "source": [
    "no = int( input('숫자를 입력하세요:'))\n",
    "for i in range(1,no+1) :\n",
    "    if i%2==0 :\n",
    "        print(i)\n",
    "        "
   ]
  },
  {
   "cell_type": "code",
   "execution_count": 13,
   "id": "c75f0a69",
   "metadata": {},
   "outputs": [
    {
     "name": "stdin",
     "output_type": "stream",
     "text": [
      "숫자를 입력하세요: 23\n"
     ]
    },
    {
     "name": "stdout",
     "output_type": "stream",
     "text": [
      "1\n",
      "3\n",
      "5\n",
      "7\n",
      "9\n",
      "11\n",
      "13\n",
      "15\n",
      "17\n",
      "19\n",
      "21\n",
      "23\n"
     ]
    }
   ],
   "source": [
    "no = int( input('숫자를 입력하세요:'))\n",
    "for i in range(1,no+1) :\n",
    "    if i%2!=0 :\n",
    "        print(i)"
   ]
  },
  {
   "cell_type": "code",
   "execution_count": 15,
   "id": "2e8ad6a8",
   "metadata": {},
   "outputs": [
    {
     "name": "stdout",
     "output_type": "stream",
     "text": [
      "1\n",
      "3\n",
      "5\n",
      "7\n"
     ]
    }
   ],
   "source": [
    "no1 = 1\n",
    "while no1 < 9 :\n",
    "    print(no1)\n",
    "    no1 += 2"
   ]
  },
  {
   "cell_type": "code",
   "execution_count": 17,
   "id": "9248f835",
   "metadata": {},
   "outputs": [
    {
     "name": "stdout",
     "output_type": "stream",
     "text": [
      "2\n",
      "4\n",
      "6\n",
      "8\n",
      "10\n"
     ]
    }
   ],
   "source": [
    "#예제 14\n",
    "no1 = 0\n",
    "while no1 < 9 :\n",
    "    no1 += 2\n",
    "    print(no1)"
   ]
  },
  {
   "cell_type": "code",
   "execution_count": 19,
   "id": "93a08647",
   "metadata": {},
   "outputs": [
    {
     "name": "stdin",
     "output_type": "stream",
     "text": [
      "출력을 원하는 단 수를 입력하세요:  7\n"
     ]
    },
    {
     "name": "stdout",
     "output_type": "stream",
     "text": [
      "7 X 1 = 7\n",
      "7 X 2 = 14\n",
      "7 X 3 = 21\n",
      "7 X 4 = 28\n",
      "7 X 5 = 35\n",
      "7 X 6 = 42\n",
      "7 X 7 = 49\n",
      "7 X 8 = 56\n",
      "7 X 9 = 63\n"
     ]
    }
   ],
   "source": [
    "dan = int( input('출력을 원하는 단 수를 입력하세요: '))\n",
    "no = 1\n",
    "while no < 10 :\n",
    "    print(dan,'X',no,'=',dan*no)\n",
    "    no += 1\n",
    "    "
   ]
  },
  {
   "cell_type": "code",
   "execution_count": 21,
   "id": "a0907e01",
   "metadata": {},
   "outputs": [
    {
     "name": "stdout",
     "output_type": "stream",
     "text": [
      "새우깡 완전 맛있어요~~\n",
      "감자깡 완전 맛있어요~~\n"
     ]
    }
   ],
   "source": [
    "snack = ['새우깡','감자깡','고구마깡','맛동산','짱구']\n",
    "for i in snack :\n",
    "    if i == '고구마깡' : \n",
    "        break\n",
    "    print(i,'완전 맛있어요~~')"
   ]
  },
  {
   "cell_type": "code",
   "execution_count": 23,
   "id": "40febe8d",
   "metadata": {},
   "outputs": [
    {
     "name": "stdout",
     "output_type": "stream",
     "text": [
      "새우깡 완전 맛있어요~~\n",
      "감자깡 완전 맛있어요~~\n",
      "맛동산 완전 맛있어요~~\n",
      "짱구 완전 맛있어요~~\n"
     ]
    }
   ],
   "source": [
    "snack = ['새우깡','감자깡','고구마깡','맛동산','짱구']\n",
    "for i in snack :\n",
    "    if i == '고구마깡' : \n",
    "        continue\n",
    "    print(i,'완전 맛있어요~~')"
   ]
  },
  {
   "cell_type": "code",
   "execution_count": 33,
   "id": "89446f27",
   "metadata": {},
   "outputs": [
    {
     "name": "stdin",
     "output_type": "stream",
     "text": [
      "\n",
      "    1.짜장면 - 5,000원          2.짬뽕 - 6,000원\n",
      "    3.군만두 - 8,000원          4.탕수육 - 10,000원 \n",
      "\n",
      "    1. 위 메뉴 중 주문할 메뉴의 번호를 쓰세요:   1\n",
      "    2. 위 메뉴의 주문 수량을 쓰세요:  2\n"
     ]
    },
    {
     "name": "stdout",
     "output_type": "stream",
     "text": [
      "\n",
      "\n",
      "    주문하신 메뉴는 짜장면이고 주문 수량은 2 그릇이며 주문금액은 10000 입니다\n",
      "\n",
      "\n"
     ]
    },
    {
     "name": "stdin",
     "output_type": "stream",
     "text": [
      "    3.추가 주문을 하시겠습니까? (Y / N) :  y\n",
      "\n",
      "    1.짜장면 - 5,000원          2.짬뽕 - 6,000원\n",
      "    3.군만두 - 8,000원          4.탕수육 - 10,000원 \n",
      "\n",
      "    1. 위 메뉴 중 주문할 메뉴의 번호를 쓰세요:   3\n",
      "    2. 위 메뉴의 주문 수량을 쓰세요:  1\n"
     ]
    },
    {
     "name": "stdout",
     "output_type": "stream",
     "text": [
      "\n",
      "\n",
      "    주문하신 메뉴는 군만두이고 주문 수량은 1 그릇이며 주문금액은 8000 입니다\n",
      "\n",
      "\n"
     ]
    },
    {
     "name": "stdin",
     "output_type": "stream",
     "text": [
      "    3.추가 주문을 하시겠습니까? (Y / N) :  n\n"
     ]
    }
   ],
   "source": [
    "answer = 'Y'\n",
    "while ( answer==\"Y\" or answer == \"y\") :\n",
    "    menu = int(input('''\n",
    "    1.짜장면 - 5,000원          2.짬뽕 - 6,000원\n",
    "    3.군만두 - 8,000원          4.탕수육 - 10,000원 \n",
    "\n",
    "    1. 위 메뉴 중 주문할 메뉴의 번호를 쓰세요:  ''') )\n",
    "\n",
    "    qty = int(input(\"    2. 위 메뉴의 주문 수량을 쓰세요: \"))\n",
    "    print(\"\\n\")\n",
    "    \n",
    "    if (menu == 1):\n",
    "        print( '    주문하신 메뉴는 짜장면이고 주문 수량은 %s 그릇이며 주문금액은 %s 입니다' %(qty , 5000*qty))\n",
    "    elif ( menu == 2) :\n",
    "        print( '    주문하신 메뉴는 짬뽕이고 주문 수량은 %s 그릇이며 주문금액은 %s 입니다' %(qty , 6000*qty))\n",
    "    elif ( menu == 3 ) :\n",
    "        print( '    주문하신 메뉴는 군만두이고 주문 수량은 %s 그릇이며 주문금액은 %s 입니다' %(qty , 8000*qty))\n",
    "    elif ( menu == 4) :\n",
    "        print( '    주문하신 메뉴는 탕수육이고 주문 수량은 %s 그릇이며 주문금액은 %s 입니다' %(qty , 10000*qty))\n",
    "    else :\n",
    "        print('    메뉴선택을 잘못하셨습니다')\n",
    "    print(\"\\n\")\n",
    "    \n",
    "    answer = input(\"    3.추가 주문을 하시겠습니까? (Y / N) : \")\n",
    "       "
   ]
  },
  {
   "cell_type": "code",
   "execution_count": 37,
   "id": "e724fba1",
   "metadata": {},
   "outputs": [
    {
     "name": "stdin",
     "output_type": "stream",
     "text": [
      "\n",
      "    1.짜장면 - 5,000원          2.짬뽕 - 6,000원\n",
      "    3.군만두 - 8,000원          4.탕수육 - 10,000원 \n",
      "\n",
      "    1. 위 메뉴 중 주문할 메뉴의 번호를 쓰세요:   1\n",
      "    2. 위 메뉴의 주문 수량을 쓰세요:  3\n"
     ]
    },
    {
     "name": "stdout",
     "output_type": "stream",
     "text": [
      "\n",
      "\n",
      "    주문하신 메뉴는 짜장면이고 주문 수량은 3 그릇이며 주문금액은 15000 원 입니다\n",
      "\n",
      "\n"
     ]
    },
    {
     "name": "stdin",
     "output_type": "stream",
     "text": [
      "    3.추가 주문을 하시겠습니까? (Y / N) :  y\n"
     ]
    },
    {
     "name": "stdout",
     "output_type": "stream",
     "text": [
      "    1 번째 추가 주문입니다\n"
     ]
    },
    {
     "name": "stdin",
     "output_type": "stream",
     "text": [
      "\n",
      "    1.짜장면 - 5,000원          2.짬뽕 - 6,000원\n",
      "    3.군만두 - 8,000원          4.탕수육 - 10,000원 \n",
      "\n",
      "    1. 위 메뉴 중 주문할 메뉴의 번호를 쓰세요:   2\n",
      "    2. 위 메뉴의 주문 수량을 쓰세요:  1\n"
     ]
    },
    {
     "name": "stdout",
     "output_type": "stream",
     "text": [
      "\n",
      "\n",
      "    주문하신 메뉴는 짬뽕이고 주문 수량은 1 그릇이며 주문금액은 6000 원 입니다\n",
      "\n",
      "\n"
     ]
    },
    {
     "name": "stdin",
     "output_type": "stream",
     "text": [
      "    3.추가 주문을 하시겠습니까? (Y / N) :  y\n"
     ]
    },
    {
     "name": "stdout",
     "output_type": "stream",
     "text": [
      "    2 번째 추가 주문입니다\n"
     ]
    },
    {
     "name": "stdin",
     "output_type": "stream",
     "text": [
      "\n",
      "    1.짜장면 - 5,000원          2.짬뽕 - 6,000원\n",
      "    3.군만두 - 8,000원          4.탕수육 - 10,000원 \n",
      "\n",
      "    1. 위 메뉴 중 주문할 메뉴의 번호를 쓰세요:   4\n",
      "    2. 위 메뉴의 주문 수량을 쓰세요:  1\n"
     ]
    },
    {
     "name": "stdout",
     "output_type": "stream",
     "text": [
      "\n",
      "\n",
      "    주문하신 메뉴는 탕수육이고 주문 수량은 1 그릇이며 주문금액은 10000 원 입니다\n",
      "\n",
      "\n"
     ]
    },
    {
     "name": "stdin",
     "output_type": "stream",
     "text": [
      "    3.추가 주문을 하시겠습니까? (Y / N) :  y\n"
     ]
    },
    {
     "name": "stdout",
     "output_type": "stream",
     "text": [
      "    3 번째 추가 주문입니다\n"
     ]
    },
    {
     "name": "stdin",
     "output_type": "stream",
     "text": [
      "\n",
      "    1.짜장면 - 5,000원          2.짬뽕 - 6,000원\n",
      "    3.군만두 - 8,000원          4.탕수육 - 10,000원 \n",
      "\n",
      "    1. 위 메뉴 중 주문할 메뉴의 번호를 쓰세요:   3\n",
      "    2. 위 메뉴의 주문 수량을 쓰세요:  1\n"
     ]
    },
    {
     "name": "stdout",
     "output_type": "stream",
     "text": [
      "\n",
      "\n",
      "    주문하신 메뉴는 군만두이고 주문 수량은 1 그릇이며 주문금액은 8000 원 입니다\n",
      "\n",
      "\n",
      "    추가주문은 총 3회 까지만 가능합니다 ㅠㅠ\n"
     ]
    }
   ],
   "source": [
    "answer = 'Y'\n",
    "reorder = 0\n",
    "\n",
    "while ( answer==\"Y\" or answer == \"y\") :    \n",
    "    menu = int(input('''\n",
    "    1.짜장면 - 5,000원          2.짬뽕 - 6,000원\n",
    "    3.군만두 - 8,000원          4.탕수육 - 10,000원 \n",
    "\n",
    "    1. 위 메뉴 중 주문할 메뉴의 번호를 쓰세요:  ''') )\n",
    "\n",
    "    qty = int(input(\"    2. 위 메뉴의 주문 수량을 쓰세요: \"))\n",
    "    print(\"\\n\")\n",
    "    \n",
    "    if (menu == 1):\n",
    "        print( '    주문하신 메뉴는 짜장면이고 주문 수량은 %s 그릇이며 주문금액은 %s 원 입니다' %(qty , 5000*qty))\n",
    "    elif ( menu == 2) :\n",
    "        print( '    주문하신 메뉴는 짬뽕이고 주문 수량은 %s 그릇이며 주문금액은 %s 원 입니다' %(qty , 6000*qty))\n",
    "    elif ( menu == 3 ) :\n",
    "        print( '    주문하신 메뉴는 군만두이고 주문 수량은 %s 그릇이며 주문금액은 %s 원 입니다' %(qty , 8000*qty))\n",
    "    elif ( menu == 4) :\n",
    "        print( '    주문하신 메뉴는 탕수육이고 주문 수량은 %s 그릇이며 주문금액은 %s 원 입니다' %(qty , 10000*qty))\n",
    "    else :\n",
    "        print('    메뉴선택을 잘못하셨습니다')\n",
    "    print(\"\\n\")\n",
    "        \n",
    "    reorder += 1\n",
    "        \n",
    "    if reorder < 4 :\n",
    "        answer = input(\"    3.추가 주문을 하시겠습니까? (Y / N) : \")\n",
    "        print( \"    %s 번째 추가 주문입니다\" %reorder)\n",
    "    else :\n",
    "        print(\"    추가주문은 총 3회 까지만 가능합니다 ㅠㅠ\")\n",
    "        break"
   ]
  },
  {
   "cell_type": "code",
   "execution_count": null,
   "id": "188d5f25-abc6-47ad-a43f-2506291e9ae0",
   "metadata": {},
   "outputs": [],
   "source": []
  }
 ],
 "metadata": {
  "kernelspec": {
   "display_name": "Python 3 (ipykernel)",
   "language": "python",
   "name": "python3"
  },
  "language_info": {
   "codemirror_mode": {
    "name": "ipython",
    "version": 3
   },
   "file_extension": ".py",
   "mimetype": "text/x-python",
   "name": "python",
   "nbconvert_exporter": "python",
   "pygments_lexer": "ipython3",
   "version": "3.12.4"
  }
 },
 "nbformat": 4,
 "nbformat_minor": 5
}
