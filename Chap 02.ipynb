{
 "cells": [
  {
   "cell_type": "code",
   "execution_count": 1,
   "id": "83ed7afd",
   "metadata": {},
   "outputs": [
    {
     "name": "stdout",
     "output_type": "stream",
     "text": [
      "var1: 10\n",
      "var2: 20\n",
      "var3: 30\n",
      "var4: 30\n"
     ]
    }
   ],
   "source": [
    "#변수 사용법과 입출력 함수\n",
    "\n",
    "var1 = 10\n",
    "print('var1:' , var1)\n",
    "\n",
    "var2 = 20\n",
    "print('var2:' , var2)\n",
    "\n",
    "var3=var4=30\n",
    "print('var3:' , var3)\n",
    "print('var4:' , var4)"
   ]
  },
  {
   "cell_type": "code",
   "execution_count": 2,
   "id": "0af99deb",
   "metadata": {},
   "outputs": [
    {
     "name": "stdout",
     "output_type": "stream",
     "text": [
      "3\n",
      "30\n",
      "200\n",
      "0.5\n"
     ]
    }
   ],
   "source": [
    "print(1+2)\n",
    "print( var1 + var2 )\n",
    "print( var1 * var2 )\n",
    "print( var1 / var2 )"
   ]
  },
  {
   "cell_type": "code",
   "execution_count": 3,
   "id": "fd9b378a",
   "metadata": {},
   "outputs": [
    {
     "name": "stdout",
     "output_type": "stream",
     "text": [
      "var6 / var5 나머지값: 2\n"
     ]
    }
   ],
   "source": [
    "var5 = 3\n",
    "var6 = 14\n",
    "print('var6 / var5 나머지값:', var6% var5)"
   ]
  },
  {
   "cell_type": "code",
   "execution_count": 1,
   "id": "296adf93",
   "metadata": {},
   "outputs": [
    {
     "name": "stdout",
     "output_type": "stream",
     "text": [
      "오늘도 굿모닝이지 말입니다~~!\n",
      "str1\n",
      "늘 굿모닝이지 말입니다~!\n"
     ]
    }
   ],
   "source": [
    "print('오늘도 굿모닝이지 말입니다~~!')\n",
    "\n",
    "str1 = ('늘 굿모닝이지 말입니다~!')\n",
    "print('str1') # 오류\n",
    "print(str1)"
   ]
  },
  {
   "cell_type": "code",
   "execution_count": 8,
   "id": "9327438e",
   "metadata": {},
   "outputs": [
    {
     "name": "stdout",
     "output_type": "stream",
     "text": [
      "var1 변수에 있는 값은 바로  100 입니다\n"
     ]
    }
   ],
   "source": [
    "var1 = 100\n",
    "print('var1 변수에 있는 값은 바로 ',var1,'입니다')"
   ]
  },
  {
   "cell_type": "code",
   "execution_count": 9,
   "id": "3227df4a",
   "metadata": {},
   "outputs": [
    {
     "name": "stdout",
     "output_type": "stream",
     "text": [
      "어휴..배가 너무 고파서 밥을 5 그릇도 먹을듯...ㅠㅠ\n"
     ]
    }
   ],
   "source": [
    "bab = 5\n",
    "print('어휴..배가 너무 고파서 밥을 %s 그릇도 먹을듯...ㅠㅠ' %bab)"
   ]
  },
  {
   "cell_type": "code",
   "execution_count": 10,
   "id": "4c4240fe",
   "metadata": {},
   "outputs": [
    {
     "name": "stdout",
     "output_type": "stream",
     "text": [
      "이번 시험에서 영어점수는 20점, 수학점수는 30점 올랐음!\n"
     ]
    }
   ],
   "source": [
    "eng=20\n",
    "math=30\n",
    "\n",
    "print('이번 시험에서 영어점수는 %s점, 수학점수는 %s점 올랐음!' %(eng,math))"
   ]
  },
  {
   "cell_type": "code",
   "execution_count": 11,
   "id": "3298f5e6",
   "metadata": {},
   "outputs": [
    {
     "name": "stdout",
     "output_type": "stream",
     "text": [
      "물가가 20%오른다는데 내 월급도 10%라도 올랐으면..\n"
     ]
    }
   ],
   "source": [
    "price=20\n",
    "sal=10\n",
    "\n",
    "print('물가가 %s%%오른다는데 내 월급도 %s%%라도 올랐으면..'%(price,sal))"
   ]
  },
  {
   "cell_type": "code",
   "execution_count": 1,
   "id": "ba60e7db",
   "metadata": {},
   "outputs": [
    {
     "name": "stdout",
     "output_type": "stream",
     "text": [
      "방법3: 제 이름은 서진수 입니다\n"
     ]
    }
   ],
   "source": [
    "name = '서진수'\n",
    "s = '방법3: 제 이름은 {} 입니다'\n",
    "print(s.format(name))"
   ]
  },
  {
   "cell_type": "code",
   "execution_count": 2,
   "id": "d3f56f8f",
   "metadata": {},
   "outputs": [
    {
     "name": "stdout",
     "output_type": "stream",
     "text": [
      "방법4: 제 이름은 서진수이고 취미는 낚시이며 사는지역은 경기도 입니다\n"
     ]
    }
   ],
   "source": [
    "name = '서진수'\n",
    "hobby='낚시'\n",
    "home = '경기도'\n",
    "s = '방법4: 제 이름은 {}이고 취미는 {}이며 사는지역은 {} 입니다'\n",
    "print(s.format(name, hobby, home))"
   ]
  },
  {
   "cell_type": "code",
   "execution_count": 12,
   "id": "d3097a54",
   "metadata": {},
   "outputs": [
    {
     "name": "stdout",
     "output_type": "stream",
     "text": [
      "짜장면\n"
     ]
    }
   ],
   "source": [
    "menu = input( )"
   ]
  },
  {
   "cell_type": "code",
   "execution_count": 13,
   "id": "3003ac29",
   "metadata": {},
   "outputs": [
    {
     "name": "stdout",
     "output_type": "stream",
     "text": [
      "오늘 점심 뭐 먹을까요? :짬뽕\n"
     ]
    }
   ],
   "source": [
    "menu_2 = input('오늘 점심 뭐 먹을까요? :')"
   ]
  },
  {
   "cell_type": "code",
   "execution_count": 14,
   "id": "e1f1194b",
   "metadata": {},
   "outputs": [
    {
     "name": "stdout",
     "output_type": "stream",
     "text": [
      "\n",
      "1.서울   2.대전   3.광주   4.부산   5.경남\n",
      "6.경북   7.충청   8.전남   9.전북   10.제주\n",
      "\n",
      "위 지역 중 검색을 원하는 지역의 번호를 입력하세요:5\n"
     ]
    }
   ],
   "source": [
    "area_no = input('''\n",
    "1.서울   2.대전   3.광주   4.부산   5.경남\n",
    "6.경북   7.충청   8.전남   9.전북   10.제주\n",
    "\n",
    "위 지역 중 검색을 원하는 지역의 번호를 입력하세요:''')\n"
   ]
  },
  {
   "cell_type": "code",
   "execution_count": 6,
   "id": "cea7c057",
   "metadata": {},
   "outputs": [
    {
     "name": "stdout",
     "output_type": "stream",
     "text": [
      "1. 이름을 입력하세요:서진수\n",
      "2. 취미를 입력하세요:낚시\n",
      "서진수 님의 취미는 낚시 입니다\n",
      "서진수 님의 취미는 낚시 입니다\n",
      "서진수 님의 취미는 낚시 입니다\n"
     ]
    }
   ],
   "source": [
    "name = input('1. 이름을 입력하세요:')\n",
    "hobby = input('2. 취미를 입력하세요:')\n",
    "\n",
    "print(name,'님의 취미는',hobby,'입니다')\n",
    "\n",
    "print('%s 님의 취미는 %s 입니다' %(name,hobby))\n",
    "\n",
    "s='{} 님의 취미는 {} 입니다'\n",
    "print(s.format(name,hobby))"
   ]
  },
  {
   "cell_type": "code",
   "execution_count": null,
   "id": "fc2214dc",
   "metadata": {},
   "outputs": [],
   "source": []
  }
 ],
 "metadata": {
  "kernelspec": {
   "display_name": "Python 3 (ipykernel)",
   "language": "python",
   "name": "python3"
  },
  "language_info": {
   "codemirror_mode": {
    "name": "ipython",
    "version": 3
   },
   "file_extension": ".py",
   "mimetype": "text/x-python",
   "name": "python",
   "nbconvert_exporter": "python",
   "pygments_lexer": "ipython3",
   "version": "3.12.4"
  }
 },
 "nbformat": 4,
 "nbformat_minor": 5
}
