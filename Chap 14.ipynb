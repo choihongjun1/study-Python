{
 "cells": [
  {
   "cell_type": "code",
   "execution_count": 2,
   "metadata": {},
   "outputs": [
    {
     "name": "stdout",
     "output_type": "stream",
     "text": [
      "Collecting bs4Note: you may need to restart the kernel to use updated packages.\n",
      "\n",
      "  Downloading bs4-0.0.2-py2.py3-none-any.whl.metadata (411 bytes)\n",
      "Requirement already satisfied: beautifulsoup4 in c:\\users\\jun05\\anaconda3\\lib\\site-packages (from bs4) (4.12.3)\n",
      "Requirement already satisfied: soupsieve>1.2 in c:\\users\\jun05\\anaconda3\\lib\\site-packages (from beautifulsoup4->bs4) (2.5)\n",
      "Downloading bs4-0.0.2-py2.py3-none-any.whl (1.2 kB)\n",
      "Installing collected packages: bs4\n",
      "Successfully installed bs4-0.0.2\n"
     ]
    }
   ],
   "source": [
    "pip install bs4"
   ]
  },
  {
   "cell_type": "code",
   "execution_count": 4,
   "metadata": {},
   "outputs": [
    {
     "name": "stdout",
     "output_type": "stream",
     "text": [
      "<title> HTML 연습 </title>\n"
     ]
    }
   ],
   "source": [
    "#Beautiful Soup\n",
    "\n",
    "from bs4 import BeautifulSoup\n",
    "ex1 = '''\n",
    "<html>\n",
    "    <head>\n",
    "        <title> HTML 연습 </title>\n",
    "    </head>\n",
    "    <body>\n",
    "        <p align=\"center\"> text 1 </p>\n",
    "        <img src=\"c:\\\\temp\\\\image\\\\솔개.png\">\n",
    "    </body>\n",
    "<html> '''\n",
    "\n",
    "soup = BeautifulSoup(ex1, 'html.parser')\n",
    "print( soup.find('title') )"
   ]
  },
  {
   "cell_type": "code",
   "execution_count": 6,
   "metadata": {},
   "outputs": [
    {
     "name": "stdout",
     "output_type": "stream",
     "text": [
      "<p align=\"center\"> text 1 </p>\n"
     ]
    }
   ],
   "source": [
    "print( soup.find('p') )"
   ]
  },
  {
   "cell_type": "code",
   "execution_count": 8,
   "metadata": {},
   "outputs": [
    {
     "name": "stdout",
     "output_type": "stream",
     "text": [
      "<p align=\"center\"> text 1 </p>\n",
      "<p align=\"right\"> text 2 </p>\n"
     ]
    }
   ],
   "source": [
    "from bs4 import BeautifulSoup\n",
    "\n",
    "ex1 = '''\n",
    "<html>\n",
    "    <head>\n",
    "        <title> HTML 연습 </title>\n",
    "    </head>\n",
    "    <body>\n",
    "        <p align=\"center\"> text 1 </p>\n",
    "        <p align=\"right\"> text 2 </p>\n",
    "        <p align=\"left\"> text 3 </p>\n",
    "        <img src=\"c:\\\\temp\\\\image\\\\솔개.png\">\n",
    "    </body>\n",
    "<html> '''\n",
    "\n",
    "soup = BeautifulSoup(ex1, 'html.parser')\n",
    "print( soup.find('p') )\n",
    "print( soup.find('p',align=\"right\") )"
   ]
  },
  {
   "cell_type": "code",
   "execution_count": 10,
   "metadata": {},
   "outputs": [
    {
     "name": "stdout",
     "output_type": "stream",
     "text": [
      "<p align=\"center\"> text 1 </p>\n"
     ]
    }
   ],
   "source": [
    "from bs4 import BeautifulSoup\n",
    "ex1 = '''\n",
    "<html>\n",
    "    <head>\n",
    "        <title> HTML 연습 </title>\n",
    "    </head>\n",
    "    <body>\n",
    "        <p align=\"center\"> text 1 </p>\n",
    "        <p align=\"center\"> text 2 </p>\n",
    "        <p align=\"center\"> text 3 </p>\n",
    "        <img src=\"c:\\\\temp\\\\image\\\\솔개.png\">\n",
    "    </body>\n",
    "<html> '''\n",
    "\n",
    "soup = BeautifulSoup(ex1, 'html.parser')\n",
    "print( soup.find('p') )"
   ]
  },
  {
   "cell_type": "code",
   "execution_count": 12,
   "metadata": {},
   "outputs": [
    {
     "name": "stdout",
     "output_type": "stream",
     "text": [
      "[<p align=\"center\"> text 1 </p>, <p align=\"center\"> text 2 </p>, <p align=\"center\"> text 3 </p>]\n",
      "<p align=\"center\"> text 1 </p>\n",
      "<p align=\"center\"> text 2 </p>\n",
      "<p align=\"center\"> text 3 </p>\n"
     ]
    }
   ],
   "source": [
    "print( soup.find_all('p') )\n",
    "print( soup.find_all('p')[0] )\n",
    "print( soup.find_all('p')[1] )\n",
    "print( soup.find_all('p')[2] )"
   ]
  },
  {
   "cell_type": "code",
   "execution_count": 16,
   "metadata": {},
   "outputs": [
    {
     "data": {
      "text/plain": [
       "[<p class=\"name1\" id=\"fruit1\" title=\"바나나\"> 바나나\n",
       "                 <span class=\"price\"> 3000원 </span>\n",
       " <span class=\"count\"> 10개 </span>\n",
       " <span class=\"store\"> 바나나가게 </span>\n",
       " <a href=\"https://www.banana.com\"> banana.com </a>\n",
       " </p>,\n",
       " <p class=\"name2\" id=\"fruit2\" title=\"체리\"> 체리\n",
       "                 <span class=\"price\"> 100원 </span>\n",
       " <span class=\"count\"> 50개 </span>\n",
       " <span class=\"store\"> 체리가게 </span>\n",
       " <a href=\"https://www.cherry.com\"> cherry.com </a>\n",
       " </p>,\n",
       " <p class=\"name3\" id=\"fruit3\" title=\"오렌지\"> 오렌지\n",
       "                 <span class=\"price\"> 500원 </span>\n",
       " <span class=\"count\"> 20개 </span>\n",
       " <span class=\"store\"> 오렌지가게 </span>\n",
       " <a href=\"https://www.orange.com\"> banana.com </a>\n",
       " </p>]"
      ]
     },
     "execution_count": 16,
     "metadata": {},
     "output_type": "execute_result"
    }
   ],
   "source": [
    "ex2='''\n",
    "<html>\n",
    "    <head>\n",
    "        <h1> 사야할 과일\n",
    "    </head>\n",
    "    <body>\n",
    "        <h1> 시장가서 사야할 과일 목록\n",
    "            <div><p id='fruit1' class='name1' title='바나나'> 바나나\n",
    "                <span class='price'> 3000원 </span>\n",
    "                <span class='count'> 10개 </span>\n",
    "                <span class='store'> 바나나가게 </span>\n",
    "                <a href='https://www.banana.com'> banana.com </a>\n",
    "                </p>\n",
    "            </div>\n",
    "             <div><p id='fruit2' class='name2' title='체리'> 체리\n",
    "                <span class='price'> 100원 </span>\n",
    "                <span class='count'> 50개 </span>\n",
    "                <span class='store'> 체리가게 </span>\n",
    "                <a href='https://www.cherry.com'> cherry.com </a>\n",
    "                </p>\n",
    "            </div>\n",
    "             <div><p id='fruit3' class='name3' title='오렌지'> 오렌지\n",
    "                <span class='price'> 500원 </span>\n",
    "                <span class='count'> 20개 </span>\n",
    "                <span class='store'> 오렌지가게 </span>\n",
    "                <a href='https://www.orange.com'> banana.com </a>\n",
    "                </p>\n",
    "            </div>\n",
    "        </body>\n",
    "    </html> '''           \n",
    "\n",
    "soup2 = BeautifulSoup(ex2 , 'html.parser')\n",
    "soup2.select('p')"
   ]
  },
  {
   "cell_type": "code",
   "execution_count": 18,
   "metadata": {},
   "outputs": [
    {
     "data": {
      "text/plain": [
       "[<p class=\"name1\" id=\"fruit1\" title=\"바나나\"> 바나나\n",
       "                 <span class=\"price\"> 3000원 </span>\n",
       " <span class=\"count\"> 10개 </span>\n",
       " <span class=\"store\"> 바나나가게 </span>\n",
       " <a href=\"https://www.banana.com\"> banana.com </a>\n",
       " </p>]"
      ]
     },
     "execution_count": 18,
     "metadata": {},
     "output_type": "execute_result"
    }
   ],
   "source": [
    "soup2.select(' .name1 ')"
   ]
  },
  {
   "cell_type": "code",
   "execution_count": 20,
   "metadata": {},
   "outputs": [
    {
     "data": {
      "text/plain": [
       "[<span class=\"price\"> 3000원 </span>,\n",
       " <span class=\"count\"> 10개 </span>,\n",
       " <span class=\"store\"> 바나나가게 </span>,\n",
       " <span class=\"price\"> 100원 </span>,\n",
       " <span class=\"count\"> 50개 </span>,\n",
       " <span class=\"store\"> 체리가게 </span>,\n",
       " <span class=\"price\"> 500원 </span>,\n",
       " <span class=\"count\"> 20개 </span>,\n",
       " <span class=\"store\"> 오렌지가게 </span>]"
      ]
     },
     "execution_count": 20,
     "metadata": {},
     "output_type": "execute_result"
    }
   ],
   "source": [
    "soup2.select(' div > p > span')"
   ]
  },
  {
   "cell_type": "code",
   "execution_count": 25,
   "metadata": {},
   "outputs": [
    {
     "data": {
      "text/plain": [
       "<span class=\"price\"> 3000원 </span>"
      ]
     },
     "execution_count": 25,
     "metadata": {},
     "output_type": "execute_result"
    }
   ],
   "source": [
    "soup2.select(' div > p > span')[0]"
   ]
  },
  {
   "cell_type": "code",
   "execution_count": 26,
   "metadata": {},
   "outputs": [
    {
     "data": {
      "text/plain": [
       "<span class=\"count\"> 10개 </span>"
      ]
     },
     "execution_count": 26,
     "metadata": {},
     "output_type": "execute_result"
    }
   ],
   "source": [
    "soup2.select(' div > p > span')[1]"
   ]
  },
  {
   "cell_type": "code",
   "execution_count": 27,
   "metadata": {},
   "outputs": [
    {
     "data": {
      "text/plain": [
       "<span class=\"\" store'=\"\"> 바나나가게 </span>"
      ]
     },
     "execution_count": 27,
     "metadata": {},
     "output_type": "execute_result"
    }
   ],
   "source": [
    "soup2.select(' div > p > span')[2]"
   ]
  },
  {
   "cell_type": "code",
   "execution_count": 32,
   "metadata": {},
   "outputs": [
    {
     "data": {
      "text/plain": [
       "[<span class=\"store\"> 바나나가게 </span>]"
      ]
     },
     "execution_count": 32,
     "metadata": {},
     "output_type": "execute_result"
    }
   ],
   "source": [
    "soup2.select(' p.name1 > span.store ')"
   ]
  },
  {
   "cell_type": "code",
   "execution_count": 34,
   "metadata": {},
   "outputs": [
    {
     "data": {
      "text/plain": [
       "[<p class=\"name1\" id=\"fruit1\" title=\"바나나\"> 바나나\n",
       "                 <span class=\"price\"> 3000원 </span>\n",
       " <span class=\"count\"> 10개 </span>\n",
       " <span class=\"store\"> 바나나가게 </span>\n",
       " <a href=\"https://www.banana.com\"> banana.com </a>\n",
       " </p>]"
      ]
     },
     "execution_count": 34,
     "metadata": {},
     "output_type": "execute_result"
    }
   ],
   "source": [
    "soup2.select(' #fruit1')"
   ]
  },
  {
   "cell_type": "code",
   "execution_count": 37,
   "metadata": {},
   "outputs": [
    {
     "data": {
      "text/plain": [
       "[<span class=\"store\"> 바나나가게 </span>]"
      ]
     },
     "execution_count": 37,
     "metadata": {},
     "output_type": "execute_result"
    }
   ],
   "source": [
    "soup2.select(' #fruit1 > span.store')"
   ]
  },
  {
   "cell_type": "code",
   "execution_count": 38,
   "metadata": {},
   "outputs": [
    {
     "data": {
      "text/plain": [
       "[<a href=\"https://www.banana.com\"> banana.com </a>,\n",
       " <a href=\"https://www.cherry.com\"> cherry.com </a>,\n",
       " <a href=\"https://www.orange.com\"> banana.com </a>]"
      ]
     },
     "execution_count": 38,
     "metadata": {},
     "output_type": "execute_result"
    }
   ],
   "source": [
    "soup2.select('a[href]')"
   ]
  },
  {
   "cell_type": "code",
   "execution_count": 39,
   "metadata": {},
   "outputs": [
    {
     "data": {
      "text/plain": [
       "<a href=\"https://www.banana.com\"> banana.com </a>"
      ]
     },
     "execution_count": 39,
     "metadata": {},
     "output_type": "execute_result"
    }
   ],
   "source": [
    "soup2.select('a[href]')[0]"
   ]
  },
  {
   "cell_type": "code",
   "execution_count": 44,
   "metadata": {},
   "outputs": [
    {
     "name": "stdout",
     "output_type": "stream",
     "text": [
      " 바나나                 3000원  10개  바나나가게  banana.com \n",
      " 체리                 100원  50개  체리가게  cherry.com \n",
      " 오렌지                 500원  20개  오렌지가게  banana.com \n"
     ]
    }
   ],
   "source": [
    "txt3 = soup2.find_all('p')\n",
    "for i in txt3 :\n",
    "    print(i.get_text().replace('\\n','') )"
   ]
  },
  {
   "cell_type": "code",
   "execution_count": 28,
   "metadata": {},
   "outputs": [
    {
     "name": "stdout",
     "output_type": "stream",
     "text": [
      "====================================================================================================\n",
      " 이 크롤러는 RISS 사이트의 논문 및 학술자료 수집용 웹크롤러입니다.\n",
      "====================================================================================================\n"
     ]
    },
    {
     "name": "stdin",
     "output_type": "stream",
     "text": [
      "1.수집할 자료의 키워드는 무엇입니까?(여러개일 경우 , 로 구분하여 입력):  관광\n"
     ]
    },
    {
     "name": "stdout",
     "output_type": "stream",
     "text": [
      "\n",
      "\n"
     ]
    }
   ],
   "source": [
    "from selenium import webdriver\n",
    "from selenium.webdriver.chrome.service import Service\n",
    "from selenium.webdriver.common.by import By\n",
    "import time          \n",
    "\n",
    "print(\"=\" * 100)\n",
    "print(\" 이 크롤러는 RISS 사이트의 논문 및 학술자료 수집용 웹크롤러입니다.\")\n",
    "print(\"=\" * 100)\n",
    "query_txt = input('1.수집할 자료의 키워드는 무엇입니까?(여러개일 경우 , 로 구분하여 입력): ')\n",
    "print(\"\\n\")\n",
    "\n",
    "chrome_path = \"chromedriver.exe\"\n",
    "service = Service(chrome_path)\n",
    "driver = webdriver.Chrome(service=service)\n",
    "\n",
    "url = 'http://www.riss.kr/'\n",
    "driver.get(url)\n",
    "time.sleep(5)\n",
    "\n",
    "element = driver.find_element(By.ID, \"query\")\n",
    "element.click()\n",
    "element.send_keys(query_txt)\n",
    "element.send_keys(\"\\n\")\n"
   ]
  },
  {
   "cell_type": "code",
   "execution_count": 30,
   "metadata": {},
   "outputs": [
    {
     "name": "stdout",
     "output_type": "stream",
     "text": [
      "    Chinese tourists, satisfaction, South Korea, complaints, the Korea National Tourism, an overseas trip.fy a trip about satisfaction and dissatisfaction, and investigates about the points.Will dissect and dissatisfied in any discussion about the direction that must be improved over the next. 1998, South Korea has also designated as a free country, many Chinese tourists to visit Korea. In particular, Chinese tourists almost blustery, named Hallyu nyeollae as Korean tourism is showing growth every year and now the largest market.Injuries. Equivalance (2011) from now, according to Chinese overseas trip liberalization, future increase in outbound travel destination, personal, simplification of procedures abroad and the increase in people leaving the country.Economic expansion is expected and in accordance with the improving labor conditions, such as sustainable development of the outbound said. These Chinese are doing the Korea Tourism Organization, under international and social context is very diverse that its motivation. Satisfaction of the tourists to Korea with a variety of tourists to figure out whether they can meet some tourist attractions worth. This is practically Revisit Period of tourists, tourist attractions of Korea for the evaluation factors such as to lead to. \n",
      "\n",
      "\n",
      "원문보기\n",
      "\n",
      "\n",
      "목차검색조회\n",
      "\n",
      "\n",
      "음성듣기\n",
      "\n",
      "\n",
      "2   觀光目的地 選擇行動에 關한 硏究 : 週末旅行者와 여름休暇旅行者를 比較하여  김유현 京畿大學校 觀光專門大學院 2003 국내석사  RANK : 27772927    원문보기             지속적인 경제성장으로 가계소득의 증가 및 여가시간의 증가에 따라, 해외 및 국내관광에 대한 수요가 증가하고 있으며, 관광자의 욕구 또한 활동화, 다양화, 고급화되어 가는 추세이다. 또한 주5일근무제가 본격적으로 실시되면 기존의 여름휴가여행 뿐만 아니라, 주말여행에 대한 수요도 증가할 것으로 전망되고 있으나, 현재 여름휴가여행자에 비해 주말 여행자를 대상으로 한 연구는 부족한 실정이다. 본 연구는 변화하는 관광수요에 대한 관광정책수립과 관광마케팅계획수립에 시사점을 제시하기 위해 주말 여행자를 대상으로 한 관광목적지선택행동의 특성을 규명하고자 하였다. 기존의 연구에 의하면, 관광목적지선택행동은 소비행위의 한 형태로서 소비자행동의 의사결정모형을 따른다. 본 연구에서는 '관광자는 인구통계적요인, 개인 심리적요인, 지각행동조절요인의 영향을 받아, 관광목적지를 선택하게 된다.' 는 연구모형을 도출하여, 여름휴가여행자와 주말여행자의 관광목적지선택행동을 비교 분석하여, 주말여행자의 관광목적지선택행동의 특성을 규명하고자 하였다. 분석결과, 여름휴가여행자는 관광목적지선택에 있어서, 목적지의 자원성, 숙식용이성을 더 많이 고려하고, 주말여행자는 접근성을 더 많이 고려하는 것으로 나타났다. 또한 주말여행자의 경우, 인구 통계적 특성에 따라 고려요인의 차이를 보여주었는데, 30대, 고학력, 고소득, 교대근무자 등이 다른 집단에 비하여 접근성을 더 많이 고려하고, 남자는 여자에 비하여 친숙성, 다양성을 더 많이 고려하며, 교대근무자의 경우 주5일근무자 및 주6일근무자에 비하여 자원성을 더 많이 고려하는 것으로 나타났고, 가계소득 350만원이상 450만원이하 집단이 다른 집단에 비하여 숙식용이성을 더 많이 고려하는 것으로 나타났다. 본 연구의 분석결과에서 볼 수 있듯이, 기존의 여름휴가여행자와 주말여행자들의 관광목적지선택행동의 특성이 서로 다른 만큼, 관광정책수립 및 관광마케팅계획의 수립에 있어서, 각각의 수요자를 구분하여야 할 것이다. 이러한 연구결과와 함께, 향후 연구에 있어서, 연구모형에 제시된 원인변수와 결과변수의 관련성 제고와 좀 더 대표성 있는 표본추출을 위해 노력하여야 할 것이다. Nowadays fiveday work a week system has been realized, and the increases of lesuretime and weekend tour demands are predicted. According to the increase of weekend tour demands, this study has aimed to reveal the factor of weekend tour destination choice. For the development of study model, Mayo & Jarvise model and Ajzen model has been based on it. The study model has 3 factors, such as vital statistics factor, personal mental factor, perceived behavior control factor that affect to the destination choice. The results are as follows : First, weekend tourist's destination choice is manly affected by the reachness to the destination, contrary to summer vacation tourist's is mainly affected by tour attractions and easy accommodation. Second, In the choice of weekend tour destination, in case of high academic background, a large income and by turns duty, the tourists are more affected by the reachness to the tour destination. Third, In the choice of weekend tour destination, male are more affected by friendlyness·diversity of the tour destination. Fourth, In the choice of weekend tour destination, tourists of by turns duty are more affected by tour attractions. Fifth, In the choice of weekend tour destination, the tourists of large income are more affected by easy accommodation. Contrary to preceding studies that are concentrated on revealing the characteristics of summer vacation destination choice, that this study was carried out mainly to reveal the characteristics of weekend destination choice is meaningful.\n",
      "\n",
      "\n",
      "원문보기\n",
      "\n",
      "\n",
      " 관광객들의 관광 O2O 서비스의 선택요인이 크게 작용하면 전환비용이 낮아져서 전환의도가 높아지고, 선택요인 중에서 콘텐츠가 가장 전환비용과 밀접함을 시사하고 있다. 또한 선택요인이 크게 작용하면 서비스 만족이 높아지는데, 이 중 거래비용이 서비스 만족에 가장 큰 영향을 미치고 있으며 이는 관광 O2O 서비스의 선택요인 중 콘텐츠와 거래비용이 서비스 전환의도에 밀접한 연관을 가지고 있는 것을 시사하고 있다. 또한 본 연구의 결과는 O2O 서비스 기업에 종사하고 있는 실무자들에게 서비스 이용자에 대한 인식과 세분화된 사용자의 욕구를 정확하게 파악할 수 있어, 다른 기업과 차별화된 마케팅 전략을 수립하고 서비스의 발전을 위해 참고할 수 있는 자료로 사용될 수 있다고 판단된다. 관광객 확보와 잠재 관광객의 탐색을 위한 기초 자료로 활용하는데 가장 큰 목적이 있다. 또한 관광 O2O 서비스의 제공자 관점이 아닌 관광객의 관점으로 조사하여 관광객 중심의 O2O 서비스 시장전략을 수립할 수 있는 토대를 마련하고자 한다.\n",
      "\n",
      "\n",
      "원문보기\n",
      "\n",
      "\n",
      "목차검색조회\n",
      "\n",
      "\n",
      "음성듣기\n",
      "\n",
      "\n",
      " In the practical aspects, the results of this study will make the tourist facilities-operating principals (providers) to recognize the tourism purposes and pursuit direction of wellness tourists correctly; and to keep in their mind that more affective design of  tourist congestion avoidance and preferred fee plan for the satisfaction of tourists is the key to ensure the expanding continuous inflow of visitors and success of business; and will be the starting point of more effectively management of visitors within the adequate capacity range of limited resources.ior of self-rationalization. Perceived crowding factor and action recognition of unhealthy behaviors of others were influential to the coping behavior of change of destination to visit.\n",
      "\n",
      "\n",
      "원문보기\n",
      "\n",
      "\n",
      "목차검색조회\n",
      "\n",
      "\n",
      "음성듣기\n",
      "\n",
      "\n",
      " However, it has not been reported about the risks perceived by the Chinese tourists who visit Jeju Island for beauty tourism. This study identified the five perceived risk factors through literature reviews and empirically analyzed the significant differences on the factors between the two travel purpose groups for plastic surgery and skin care. The analysis results showed statistical differences between the two groups on the following three perceived factors: financial cost risk, schedule risk, and cultural risk. In specifically, plastic surgery purpose tourist group prominently perceived the three risks higher than did the skin care tourist group. 최근 신 한류열풍의 영향으로 한국에 대한 문화적 관심이 높아지면서 한류스타처럼 되고 싶어 하는 기대와 동경을 바탕으로 성형, 피부관리, 미용관련 시술을 받고자 하는 뷰티관광객이 중국, 일본을 비롯한 아시아지역을 중심으로 증가하고 있다. 또한, 한국 드라마와 아이돌 등, 한류문화가 세계적으로 인기를 얻으면서 한국에서 유행한 뷰티아이템의 인기도 전 세계로 확산되었다. 현재까지 한국 뷰티관광산업의 발전과 외국인 관광객의 유치를 도모하기 위해 한국 정부와 지방자치단체는 뷰티 관광상품 개발과 대형 행사 개최 등 다양한 지원정책을 펴고 있다. 특히 방한 중국인 여행객수 증가와 이들의 소비수준이 높아짐에 따라, 중국 관광객이 제주의 뷰티관광서비스를 찾을 때 어떤 위험지각이 있는지 사회과학적 설문조사를 통해 실증 분석하여 제주 방문 중국 뷰티관광객의 목적별 유형에 따른 지각된 위험에 인식차이를 파악하고자 한다. 제주의 뷰티관광은 시작된 지 오래되지 않아서 본 설문조사는 뷰티서비스를 받기 위해 뷰티관광서비스를 선택하는 중국인관광객들을 중심으로 조사하였다. 제주 뷰티관광 지각된 위험의 분석결과를 바탕으로 뷰티관광객들을 유인하기 위한 방안과 마케팅 전략을 마련하고 시사점을 제시하는데 목적을 두었다. 본 연구의 목적을 달성하기 위하여 기존의 문헌연구를 바탕으로 연구의 체계를 설정하고 설문조사를 통하여 실증분석을 위한 자료를 수집하였다. 설문조사를 2016년 10월15일부터 2016년 10월 30일까지 15일 간 제주도의 대표적인 성형미용업체와 뷰티미용학원 에서 한국의 뷰티서비스(성형관광, 피부미용관광)를 이용할 계획이 있는 중국 관광객들을 대상으로 250부의 중국어로 표시된 설문지를 배포 하고 실시하였다. 회수된 설문지 가운데 불성실한 응답이나 누락된 설문항목의30부를 제외하고 성실하게 응답한 220부를 실증분석에 최종적으로 사용하였다. 설문조사를 통하여 수집된 자료의 타당성 및 신뢰성을 확보하기 위하여 사회학 분석에 널리 쓰이는 SPSS 23.0 통계 프로그램을 사용하여 처리하였다. 조사대상자의 행태적 특성과 인구통계학 특성을 살펴보기 위하여 빈도분석(frequency analysis)을 실시하였고, 선행연구들을 바탕으로 도출된 뷰티관광 지각된 위험들에 대한 신뢰성을 검증하기 위하여 신뢰도분석 (reliabilityanalysis)크론바하 알파계수(Cronbach’s a)를 실시하였다. 또한 뷰티관광 지각된 위험과 2개의 목적별( 성형, 피부관리)유형 간 지각된 위험에 인식의 차이를 분석하기 위해서는 t-test분석을 실시하였고, 각 유형별 위험지각의 분석에는 LSD사후검증을 이용하였다. 본 연구의 결과는 다음과 같이 요약할 수 있다. 첫째, 제주 방문 중국 관광객의 인구통계학적 특성에 따른 빈도분석으로 살펴보면 20대, 30대; 경영/관리직, 학생, 자영업자, 그리고 월평균소득이 '5,000위안~12,000위안 이하', '12,000위안~20,000'의 부유층들이 제주 뷰티관광에 대해 관심이 더 높은 것으로 조사되었다. 또한, 한국과 지리적으로 가까운 화동지역, 화북지역에서 온 중국 관광객들이 다른 지역보다 제주의 뷰티관광서비스를 더 많이 이용한다는 것을 보이고 있다. 둘째, 제주 방문 중국 관광객의 행태적 특성에 따른 빈도분석으로 살펴보면 체류시산 4일 이상의 경우 절반 이상이고 주로 친구, 가족이나 혼자로 제주에 방문한 것으로 조사되었고 이들은 주로 오프라인상 지인의 추천 및 권유를 통해 제주의 여행정보를 입수한 것으로 조사되었다. 셋째, 뷰티관광 지각된 위험은 총 5개 요인으로 구성되었으며 한 3개 항목을 제거하고 총20개 세부항목을 선정하였다. ‘기능적 위험’요인, ‘금전적 위험’요인, ‘시간적 위험’요인, ‘위생적 위험’요인, ‘문화적 위험’요인을 도출하였으며, 이 요인들에 대해 신뢰성분석을 실시하였다. 분석결과를 살펴보면 요인의 신뢰도는 모두 0.60이상의 값을 보이고 있으므로 높은 수준으로 신뢰도가 나타났다. 넷째, 중국 뷰티관광들이 제주 뷰티관광상품 선택 시 지각된 위험 요인의 중요도를 파악한 결과 '위생적 위험'이 가장 걱정된다고 인식하고 있었으며, 그 다음으로 '기능적 위험', '문화적 위험', '금전적 위험', '시간적 위험'의 순으로 나타났다. 특히 '위생적 위험'요인에서의 '병원내 공중시설의 위생의 걱정'항목이 가장 높은 평균 점수로 조사되었다. 다섯째, 뷰티관광 목적별 유형(성형관광, 피부미용관광)에 따라 뷰티관광 지각된 위험의 기능적 위험에는 차이가 없는 것으로 나타났다. 이는 세 목적별 집단이 기능적 위험요인에 비슷하게 인식한다는 것을 확인할 수 있다. 뷰티관광 목적별 유형(성형관광, 피부미용관광)에 따라 뷰티관광 지각된 위험의 금전적 위험에는 차이가 있는 것으로 나타났다. 뷰티관광 목적별 유형(성형관광, 피부미용관광)에 따라 뷰티관광 지각된 위험의 시간적 위험에는 차이가 있는 것으로 나타났다. 뷰티관광 목적별 유형(성형관광, 피부미용관광)에 따라 뷰티관광 지각된 위험의 위생적 위험에는 차이가 없는 것으로 나타났다. 뷰티관광 목적별 유형(성형관광, 피부미용관광)에 따라 뷰티관광 지각된 위험의 문화적 위험에는 차이가 있는 것으로 나타났다는 것을 확인되었다.\n",
      "\n",
      "\n",
      "원문보기\n",
      "\n",
      "\n",
      "목차검색조회\n",
      "\n",
      "\n",
      "음성듣기\n",
      "\n",
      "\n",
      "   본 연구는 관광산업에서 구체적 특정 기후현상과 관련된 관광객의 의사결정 과정을 이해하는 데 필요한 기초 자료로 활용될 것이다. 시사점에는 대부분 중국 사람들이 내몽골 관광을 하는 동기는 보통 내몽골의 초원 경치를 감상하고 싶어 하거나 몽골족의 민속 문화를 체험하고 싶어 하는 수요가 있는 것이고 이에 황사 위험지각이 주는 영향보다 더 크게 계획행동에 작용하는 것을 알 수 있다. 한계점에는 본 연구는 응답자들의 내몽골 방문경험 유무로 분석을 구별했는데 구체적으로 사람들이 내몽골 방문하기 전과 방문한 후에 황사 위험지각의 차이를 살펴보지 못하는 한계점이 있다. 이에 향후 연구에서는 황사의 영향을 받는 관광지역에 방문전후의 차이를 고려하고 구체적인 연구 설계를 통해 계획행동의 변화를 연구할 필요가 있을 것으로 보인다.해서는 황사에 대한 관광객의 위험지각에 대한 연구가 필수적이고 의의가 있는 것이라고 볼 수 있다. \n",
      "\n",
      "\n",
      "원문보기\n",
      "\n",
      "\n",
      "음성듣기\n",
      "\n",
      "\n",
      "7   濟州道 觀光客의 觀光行態에 關한 硏究  金明植 경기대학교 경영대학원 1999 국내석사  RANK : 27772927    원문보기             To fulfill this purpose, this study conducted an analysis of the traveler who had to Cheju during a month. Selected from a database of an analysis of the study, the sample consisted of six groups of sex, age, occupation, scholarship, income, one's place of residence. The method of this study have been used the letter of research, ant the total number of questions were twenty-three. Four of those questions were consisted of ones things before visiting Cheju, other thirteen questions were concerned with behavior during the travel, remaining six questions were concerned with other general things of the subjects. The total number of returned letter of research were 358 out of 360, and the numbers of analysis subjects were 342. The results have been analyzed by using the direct research with SAS program. The key findings of this study are as follows: The first question what is purpose of The Cheju Travel. And the answer is a honeymoon, a school tour and etc. The other answers are a family tour, widen one's experience. And the reason of decision that Cheju as travel place is a beautiful natural environment. The second, as invited at Cheju, the travelers use the rent a car and put up at common hotel and use public restaurant. This study revealed the travelers to Cheju have seldom a special tour guide. The third, the whole degree of travel satisfaction appears middle type. Travelers are unsatisfied with the service of leisure host and shopping facilities. They are satisfied with tourist attraction that the type of mountain, sea, a cultural heritage, industrial, resort facilities, human resource. The contribution of this study lies attempting to explore the behavior of travelers to Cheju and degree of travel satisfaction. From a practical perspective, the results coming from this study should be appealing to the marketers in the travel industry. It is hoped that this study will provide tourism marketers including travel agents and tourism development authorities some insights about Korean overseas travelers, thereby helping them plan the appropriate marketing and tourism development strategies at the concerned markets.\n",
      "\n",
      "\n",
      "원문보기\n",
      "\n",
      "\n",
      "8   베트남 관광지 감각유산이 러브마크, 트랜스포메이션 및 재방문 의도에 미치는 영향 : 베트남 방문 한국관광객을 대상으로  호티투흐엉 경희대학교 대학원 2017 국내석사  RANK : 27772927    원문보기 목차검색조회 음성듣기             Recently, the number of Korean visitors to Vietnam has been increased due to the development of transportation and tourism marketing. This study aims to verify the effects of sensory heritage (sense of taste, touch, sight, sound, and smell) of Vietnam tourist destinations on Vietnam lovemark (love and respect), Korean visitors’ transformation (positive change in soul, mind, and body), and their revisit intention. Survey was conducted in March 2017 and data were collected from 212 valid questionnaires. Results showed that the sensory heritage of tourism destinations had an effect on the lovemark; tourist transformation and revisit intention were significantly impacted by lovemark; transformation had an effect on tourist revisit intention. It is suggested that Vietnam local sensory heritage should be promoted by creating opportunities for sensible experiences; Vietnam should improve tourism quality services to better satisfy Korean tourists and establish effective marketing strategy to brand Vietnamese tourist destinations image in order to attract more international visitors to Vietnam.\n",
      "\n",
      "\n",
      "원문보기\n",
      "\n",
      "\n",
      "목차검색조회\n",
      "\n",
      "\n",
      "음성듣기\n",
      "\n",
      "\n",
      "   Using 301 valid responses, more than 90% of respondents answered that Rapport had been created(271 people). There are 5 different kinds of Rapport Building Behaviors; Uncommonly Attentive Behavior, Common Grounding Behavior, Courteous Behavior, Connecting Behavior and Information Sharing Behavior. Relationship Quality consists of 3 factors; Trust, Commitment, Satisfaction. Loyalty has only one factor. The study proves that Courteous Behavior and Information Sharing Behavior impact on Relationship quality among Rapport Building Behaviors. In addition, Loyalty is affected by Commitment and Satisfaction. Based on this research, it showed that on the actual condition for Rapport between two groups and, additionally, the results will give advice for human resource development in tourism field.e development. Especially, those groups are paying attention to service quality management during service encounter and, in this stage, a Rapport will be formed between service provider and tourists.\n",
      "\n",
      "\n",
      "원문보기\n",
      "\n",
      "\n",
      "목차검색조회\n",
      "\n",
      "\n",
      "음성듣기\n",
      "\n",
      "\n",
      "  본 연구의 연구목적을 위하여 첫째, 관광지 선택 속성에 대한 기존의 선행 연구를 중심으로 관광행동에 대한 연구를 분석, 측정항목을 도출하였고 이에 대한 조작적 정의를 정리하였다. 둘째, 기존의 선행연구를 통하여 추출된 관광지의 매력 요인을 바탕으로 관광지 속성평가에 적절한 기법인 IPA를 이용 각각의 매력요인에 대한 성취도 차이 평가를 통해 진황도의 중요한 관광매력 요인을 파악 하였고, 마지막으로 진황도 관광 매력요인의 성취도와 종합적인 진황도 관광의 만족도 및 재방문의도 요인을 고찰하고자 하였다. 하였고 관광객이 진황도를 방문하게 되는 주요 매력요인이 무엇인지 또한 이를 뒷받침 하는 진황도의 중요한 관광자원을 파악함과 이에 따른 관광객의 만족도와 재방문 의도를 규명함으로써 진황도 관광객을 지속적으로 끌기 위한 다양한 관광상품의 개발과 타 관광지역과의 차별화 된 진황도만의 관광자원 개발 정책을 위한 시사점과 발전 방향을 제시하고자 한다.\n",
      "\n",
      "\n",
      "원문보기\n",
      "\n",
      "\n",
      "목차검색조회\n",
      "\n",
      "\n",
      "음성듣기\n",
      "\n",
      "\n"
     ]
    }
   ],
   "source": [
    "from selenium.webdriver.common.by import By\n",
    "from bs4 import BeautifulSoup\n",
    "\n",
    "driver.find_element(By.LINK_TEXT, '학위논문').click()\n",
    "time.sleep(2)\n",
    "\n",
    "html_1 = driver.page_source\n",
    "soup_1 = BeautifulSoup(html_1, 'html.parser')\n",
    "\n",
    "content_1 = soup_1.find('div','srchResultListW').find_all('li')\n",
    "for i in content_1 :\n",
    "    print(i.get_text().replace(\"\\n\",\" \").strip())\n",
    "    print(\"\\n\")"
   ]
  },
  {
   "cell_type": "code",
   "execution_count": 32,
   "metadata": {},
   "outputs": [
    {
     "name": "stdin",
     "output_type": "stream",
     "text": [
      "결과를 저장할 파일명을 쓰세요(예: riss.txt):  riss.txt\n"
     ]
    },
    {
     "name": "stdout",
     "output_type": "stream",
     "text": [
      "   Chinese tourists, satisfaction, South Korea, complaints, the Korea National Tourism, an overseas trip.fy a trip about satisfaction and dissatisfaction, and investigates about the points.Will dissect and dissatisfied in any discussion about the direction that must be improved over the next. 1998, South Korea has also designated as a free country, many Chinese tourists to visit Korea. In particular, Chinese tourists almost blustery, named Hallyu nyeollae as Korean tourism is showing growth every year and now the largest market.Injuries. Equivalance (2011) from now, according to Chinese overseas trip liberalization, future increase in outbound travel destination, personal, simplification of procedures abroad and the increase in people leaving the country.Economic expansion is expected and in accordance with the improving labor conditions, such as sustainable development of the outbound said. These Chinese are doing the Korea Tourism Organization, under international and social context is very diverse that its motivation. Satisfaction of the tourists to Korea with a variety of tourists to figure out whether they can meet some tourist attractions worth. This is practically Revisit Period of tourists, tourist attractions of Korea for the evaluation factors such as to lead to. \n",
      "원문보기\n",
      "목차검색조회\n",
      "음성듣기\n",
      "2觀光目的地 選擇行動에 關한 硏究 : 週末旅行者와 여름休暇旅行者를 比較하여김유현京畿大學校 觀光專門大學院2003국내석사RANK : 27772927원문보기지속적인 경제성장으로 가계소득의 증가 및 여가시간의 증가에 따라, 해외 및 국내관광에 대한 수요가 증가하고 있으며, 관광자의 욕구 또한 활동화, 다양화, 고급화되어 가는 추세이다. 또한 주5일근무제가 본격적으로 실시되면 기존의 여름휴가여행 뿐만 아니라, 주말여행에 대한 수요도 증가할 것으로 전망되고 있으나, 현재 여름휴가여행자에 비해 주말 여행자를 대상으로 한 연구는 부족한 실정이다.본 연구는 변화하는 관광수요에 대한 관광정책수립과 관광마케팅계획수립에 시사점을 제시하기 위해 주말 여행자를 대상으로 한 관광목적지선택행동의 특성을 규명하고자 하였다.기존의 연구에 의하면, 관광목적지선택행동은 소비행위의 한 형태로서 소비자행동의 의사결정모형을 따른다. 본 연구에서는 '관광자는 인구통계적요인, 개인 심리적요인, 지각행동조절요인의 영향을 받아, 관광목적지를 선택하게 된다.' 는 연구모형을 도출하여, 여름휴가여행자와 주말여행자의 관광목적지선택행동을 비교 분석하여, 주말여행자의 관광목적지선택행동의 특성을 규명하고자 하였다.분석결과, 여름휴가여행자는 관광목적지선택에 있어서, 목적지의 자원성, 숙식용이성을 더 많이 고려하고, 주말여행자는 접근성을 더 많이 고려하는 것으로 나타났다. 또한 주말여행자의 경우, 인구 통계적 특성에 따라 고려요인의 차이를 보여주었는데, 30대, 고학력, 고소득, 교대근무자 등이 다른 집단에 비하여 접근성을 더 많이 고려하고, 남자는 여자에 비하여 친숙성, 다양성을 더 많이 고려하며, 교대근무자의 경우 주5일근무자 및 주6일근무자에 비하여 자원성을 더 많이 고려하는 것으로 나타났고, 가계소득 350만원이상 450만원이하 집단이 다른 집단에 비하여 숙식용이성을 더 많이 고려하는 것으로 나타났다.본 연구의 분석결과에서 볼 수 있듯이, 기존의 여름휴가여행자와 주말여행자들의 관광목적지선택행동의 특성이 서로 다른 만큼, 관광정책수립 및 관광마케팅계획의 수립에 있어서, 각각의 수요자를 구분하여야 할 것이다.이러한 연구결과와 함께, 향후 연구에 있어서, 연구모형에 제시된 원인변수와 결과변수의 관련성 제고와 좀 더 대표성 있는 표본추출을 위해 노력하여야 할 것이다. Nowadays fiveday work a week system has been realized, and the increases of lesuretime and weekend tour demands are predicted. According to the increase of weekend tour demands, this study has aimed to reveal the factor of weekend tour destination choice. For the development of study model, Mayo & Jarvise model and Ajzen model has been based on it. The study model has 3 factors, such as vital statistics factor, personal mental factor, perceived behavior control factor that affect to the destination choice.The results are as follows :First, weekend tourist's destination choice is manly affected by the reachness to the destination, contrary to summer vacation tourist's is mainly affected by tour attractions and easy accommodation.Second, In the choice of weekend tour destination, in case of high academic background, a large income and by turns duty, the tourists are more affected by the reachness to the tour destination.Third, In the choice of weekend tour destination, male are more affected by friendlyness·diversity of the tour destination.Fourth, In the choice of weekend tour destination, tourists of by turns duty are more affected by tour attractions.Fifth, In the choice of weekend tour destination, the tourists of large income are more affected by easy accommodation.Contrary to preceding studies that are concentrated on revealing the characteristics of summer vacation destination choice, that this study was carried out mainly to reveal the characteristics of weekend destination choice is meaningful.\n",
      "원문보기\n",
      "관광객들의 관광 O2O 서비스의 선택요인이 크게 작용하면 전환비용이 낮아져서 전환의도가 높아지고, 선택요인 중에서 콘텐츠가 가장 전환비용과 밀접함을 시사하고 있다. 또한 선택요인이 크게 작용하면 서비스 만족이 높아지는데, 이 중 거래비용이 서비스 만족에 가장 큰 영향을 미치고 있으며 이는 관광 O2O 서비스의 선택요인 중 콘텐츠와 거래비용이 서비스 전환의도에 밀접한 연관을 가지고 있는 것을 시사하고 있다. 또한 본 연구의 결과는 O2O 서비스 기업에 종사하고 있는 실무자들에게 서비스 이용자에 대한 인식과 세분화된 사용자의 욕구를 정확하게 파악할 수 있어, 다른 기업과 차별화된 마케팅 전략을 수립하고 서비스의 발전을 위해 참고할 수 있는 자료로 사용될 수 있다고 판단된다.료로 활용하는데 가장 큰 목적이 있다. 또한 관광 O2O 서비스의 제공자 관점이 아닌 관광객의 관점으로 조사하여 관광객 중심의 O2O 서비스 시장전략을 수립할 수 있는 토대를 마련하고자 한다.\n",
      "원문보기\n",
      "목차검색조회\n",
      "음성듣기\n",
      "In the practical aspects, the results of this study will make the tourist facilities-operating principals (providers) to recognize the tourism purposes and pursuit direction of wellness tourists correctly; and to keep in their mind that more affective design of  tourist congestion avoidance and preferred fee plan for the satisfaction of tourists is the key to ensure the expanding continuous inflow of visitors and success of business; and will be the starting point of more effectively management of visitors within the adequate capacity range of limited resources.ior of self-rationalization. Perceived crowding factor and action recognition of unhealthy behaviors of others were influential to the coping behavior of change of destination to visit.\n",
      "원문보기\n",
      "목차검색조회\n",
      "음성듣기\n",
      "However, it has not been reported about the risks perceived by the Chinese tourists who visit Jeju Island for beauty tourism. This study identified the five perceived risk factors through literature reviews and empirically analyzed the significant differences on the factors between the two travel purpose groups for plastic surgery and skin care. The analysis results showed statistical differences between the two groups on the following three perceived factors: financial cost risk, schedule risk, and cultural risk. In specifically, plastic surgery purpose tourist group prominently perceived the three risks higher than did the skin care tourist group. 최근 신 한류열풍의 영향으로 한국에 대한 문화적 관심이 높아지면서 한류스타처럼 되고 싶어 하는 기대와 동경을 바탕으로 성형, 피부관리, 미용관련 시술을 받고자 하는 뷰티관광객이 중국, 일본을 비롯한 아시아지역을 중심으로 증가하고 있다. 또한, 한국 드라마와 아이돌 등, 한류문화가 세계적으로 인기를 얻으면서 한국에서 유행한 뷰티아이템의 인기도 전 세계로 확산되었다. 현재까지 한국 뷰티관광산업의 발전과 외국인 관광객의 유치를 도모하기 위해 한국 정부와 지방자치단체는 뷰티 관광상품 개발과 대형 행사 개최 등 다양한 지원정책을 펴고 있다. 특히 방한 중국인 여행객수 증가와 이들의 소비수준이 높아짐에 따라, 중국 관광객이 제주의 뷰티관광서비스를 찾을 때 어떤 위험지각이 있는지 사회과학적 설문조사를 통해 실증 분석하여 제주 방문 중국 뷰티관광객의 목적별 유형에 따른 지각된 위험에 인식차이를 파악하고자 한다. 제주의 뷰티관광은 시작된 지 오래되지 않아서 본 설문조사는 뷰티서비스를 받기 위해 뷰티관광서비스를 선택하는 중국인관광객들을 중심으로 조사하였다. 제주 뷰티관광 지각된 위험의 분석결과를 바탕으로 뷰티관광객들을 유인하기 위한 방안과 마케팅 전략을 마련하고 시사점을 제시하는데 목적을 두었다. 본 연구의 목적을 달성하기 위하여 기존의 문헌연구를 바탕으로 연구의 체계를 설정하고 설문조사를 통하여 실증분석을 위한 자료를 수집하였다. 설문조사를 2016년 10월15일부터 2016년 10월 30일까지 15일 간 제주도의 대표적인 성형미용업체와 뷰티미용학원 에서 한국의 뷰티서비스(성형관광, 피부미용관광)를 이용할 계획이 있는 중국 관광객들을 대상으로 250부의 중국어로 표시된 설문지를 배포 하고 실시하였다. 회수된 설문지 가운데 불성실한 응답이나 누락된 설문항목의30부를 제외하고 성실하게 응답한 220부를 실증분석에 최종적으로 사용하였다. 설문조사를 통하여 수집된 자료의 타당성 및 신뢰성을 확보하기 위하여 사회학 분석에 널리 쓰이는 SPSS 23.0 통계 프로그램을 사용하여 처리하였다. 조사대상자의 행태적 특성과 인구통계학 특성을 살펴보기 위하여 빈도분석(frequency analysis)을 실시하였고, 선행연구들을 바탕으로 도출된 뷰티관광 지각된 위험들에 대한 신뢰성을 검증하기 위하여 신뢰도분석 (reliabilityanalysis)크론바하 알파계수(Cronbach’s a)를 실시하였다. 또한 뷰티관광 지각된 위험과 2개의 목적별( 성형, 피부관리)유형 간 지각된 위험에 인식의 차이를 분석하기 위해서는 t-test분석을 실시하였고, 각 유형별 위험지각의 분석에는 LSD사후검증을 이용하였다. 본 연구의 결과는 다음과 같이 요약할 수 있다. 첫째, 제주 방문 중국 관광객의 인구통계학적 특성에 따른 빈도분석으로 살펴보면 20대, 30대; 경영/관리직, 학생, 자영업자, 그리고 월평균소득이 '5,000위안~12,000위안 이하', '12,000위안~20,000'의 부유층들이 제주 뷰티관광에 대해 관심이 더 높은 것으로 조사되었다. 또한, 한국과 지리적으로 가까운 화동지역, 화북지역에서 온 중국 관광객들이 다른 지역보다 제주의 뷰티관광서비스를 더 많이 이용한다는 것을 보이고 있다. 둘째, 제주 방문 중국 관광객의 행태적 특성에 따른 빈도분석으로 살펴보면 체류시산 4일 이상의 경우 절반 이상이고 주로 친구, 가족이나 혼자로 제주에 방문한 것으로 조사되었고 이들은 주로 오프라인상 지인의 추천 및 권유를 통해 제주의 여행정보를 입수한 것으로 조사되었다. 셋째, 뷰티관광 지각된 위험은 총 5개 요인으로 구성되었으며 한 3개 항목을 제거하고 총20개 세부항목을 선정하였다. ‘기능적 위험’요인, ‘금전적 위험’요인, ‘시간적 위험’요인, ‘위생적 위험’요인, ‘문화적 위험’요인을 도출하였으며, 이 요인들에 대해 신뢰성분석을 실시하였다. 분석결과를 살펴보면 요인의 신뢰도는 모두 0.60이상의 값을 보이고 있으므로 높은 수준으로 신뢰도가 나타났다. 넷째, 중국 뷰티관광들이 제주 뷰티관광상품 선택 시 지각된 위험 요인의 중요도를 파악한 결과 '위생적 위험'이 가장 걱정된다고 인식하고 있었으며, 그 다음으로 '기능적 위험', '문화적 위험', '금전적 위험', '시간적 위험'의 순으로 나타났다. 특히 '위생적 위험'요인에서의 '병원내 공중시설의 위생의 걱정'항목이 가장 높은 평균 점수로 조사되었다. 다섯째, 뷰티관광 목적별 유형(성형관광, 피부미용관광)에 따라 뷰티관광 지각된 위험의 기능적 위험에는 차이가 없는 것으로 나타났다. 이는 세 목적별 집단이 기능적 위험요인에 비슷하게 인식한다는 것을 확인할 수 있다. 뷰티관광 목적별 유형(성형관광, 피부미용관광)에 따라 뷰티관광 지각된 위험의 금전적 위험에는 차이가 있는 것으로 나타났다. 뷰티관광 목적별 유형(성형관광, 피부미용관광)에 따라 뷰티관광 지각된 위험의 시간적 위험에는 차이가 있는 것으로 나타났다. 뷰티관광 목적별 유형(성형관광, 피부미용관광)에 따라 뷰티관광 지각된 위험의 위생적 위험에는 차이가 없는 것으로 나타났다. 뷰티관광 목적별 유형(성형관광, 피부미용관광)에 따라 뷰티관광 지각된 위험의 문화적 위험에는 차이가 있는 것으로 나타났다는 것을 확인되었다.\n",
      "원문보기\n",
      "목차검색조회\n",
      "음성듣기\n",
      "  본 연구는 관광산업에서 구체적 특정 기후현상과 관련된 관광객의 의사결정 과정을 이해하는 데 필요한 기초 자료로 활용될 것이다. 시사점에는 대부분 중국 사람들이 내몽골 관광을 하는 동기는 보통 내몽골의 초원 경치를 감상하고 싶어 하거나 몽골족의 민속 문화를 체험하고 싶어 하는 수요가 있는 것이고 이에 황사 위험지각이 주는 영향보다 더 크게 계획행동에 작용하는 것을 알 수 있다. 한계점에는 본 연구는 응답자들의 내몽골 방문경험 유무로 분석을 구별했는데 구체적으로 사람들이 내몽골 방문하기 전과 방문한 후에 황사 위험지각의 차이를 살펴보지 못하는 한계점이 있다. 이에 향후 연구에서는 황사의 영향을 받는 관광지역에 방문전후의 차이를 고려하고 구체적인 연구 설계를 통해 계획행동의 변화를 연구할 필요가 있을 것으로 보인다.  필수적이고 의의가 있는 것이라고 볼 수 있다. \n",
      "원문보기\n",
      "음성듣기\n",
      "7濟州道 觀光客의 觀光行態에 關한 硏究金明植경기대학교 경영대학원1999국내석사RANK : 27772927원문보기To fulfill this purpose, this study conducted an analysis of the traveler who had to Cheju during a month. Selected from a database of an analysis of the study, the sample consisted of six groups of sex, age, occupation, scholarship, income, one's place of residence.The method of this study have been used the letter of research, ant the total number of questions were twenty-three. Four of those questions were consisted of ones things before visiting Cheju, other thirteen questions were concerned with behavior during the travel, remaining six questions were concerned with other general things of the subjects. The total number of returned letter of research were 358 out of 360, and the numbers of analysis subjects were 342. The results have been analyzed by using the direct research with SAS program.The key findings of this study are as follows:The first question what is purpose of The Cheju Travel. And the answer is a honeymoon, a school tour and etc. The other answers are a family tour, widen one's experience. And the reason of decision that Cheju as travel place is a beautiful natural environment.The second, as invited at Cheju, the travelers use the rent a car and put up at common hotel and use public restaurant. This study revealed the travelers to Cheju have seldom a special tour guide.The third, the whole degree of travel satisfaction appears middle type. Travelers are unsatisfied with the service of leisure host and shopping facilities. They are satisfied with tourist attraction that the type of mountain, sea, a cultural heritage, industrial, resort facilities, human resource.The contribution of this study lies attempting to explore the behavior of travelers to Cheju and degree of travel satisfaction. From a practical perspective, the results coming from this study should be appealing to the marketers in the travel industry. It is hoped that this study will provide tourism marketers including travel agents and tourism development authorities some insights about Korean overseas travelers, thereby helping them plan the appropriate marketing and tourism development strategies at the concerned markets.\n",
      "원문보기\n",
      "8베트남 관광지 감각유산이 러브마크, 트랜스포메이션 및 재방문 의도에 미치는 영향 : 베트남 방문 한국관광객을 대상으로호티투흐엉경희대학교 대학원2017국내석사RANK : 27772927원문보기목차검색조회음성듣기Recently, the number of Korean visitors to Vietnam has been increased due to the development of transportation and tourism marketing. This study aims to verify the effects of sensory heritage (sense of taste, touch, sight, sound, and smell) of Vietnam tourist destinations on Vietnam lovemark (love and respect), Korean visitors’ transformation (positive change in soul, mind, and body), and their revisit intention. Survey was conducted in March 2017 and data were collected from 212 valid questionnaires. Results showed that the sensory heritage of tourism destinations had an effect on the lovemark; tourist transformation and revisit intention were significantly impacted by lovemark; transformation had an effect on tourist revisit intention. It is suggested that Vietnam local sensory heritage should be promoted by creating opportunities for sensible experiences; Vietnam should improve tourism quality services to better satisfy Korean tourists and establish effective marketing strategy to brand Vietnamese tourist destinations image in order to attract more international visitors to Vietnam.\n",
      "원문보기\n",
      "목차검색조회\n",
      "음성듣기\n",
      "  Using 301 valid responses, more than 90% of respondents answered that Rapport had been created(271 people). There are 5 different kinds of Rapport Building Behaviors; Uncommonly Attentive Behavior, Common Grounding Behavior, Courteous Behavior, Connecting Behavior and Information Sharing Behavior. Relationship Quality consists of 3 factors; Trust, Commitment, Satisfaction. Loyalty has only one factor. The study proves that Courteous Behavior and Information Sharing Behavior impact on Relationship quality among Rapport Building Behaviors. In addition, Loyalty is affected by Commitment and Satisfaction. Based on this research, it showed that on the actual condition for Rapport between two groups and, additionally, the results will give advice for human resource development in tourism field.e development. Especially, those groups are paying attention to service quality management during service encounter and, in this stage, a Rapport will be formed between service provider and tourists.\n",
      "원문보기\n",
      "목차검색조회\n",
      "음성듣기\n",
      " 본 연구의 연구목적을 위하여 첫째, 관광지 선택 속성에 대한 기존의 선행 연구를 중심으로 관광행동에 대한 연구를 분석, 측정항목을 도출하였고 이에 대한 조작적 정의를 정리하였다. 둘째, 기존의 선행연구를 통하여 추출된 관광지의 매력 요인을 바탕으로 관광지 속성평가에 적절한 기법인 IPA를 이용 각각의 매력요인에 대한 성취도 차이 평가를 통해 진황도의 중요한 관광매력 요인을 파악 하였고, 마지막으로 진황도 관광 매력요인의 성취도와 종합적인 진황도 관광의 만족도 및 재방문의도 요인을 고찰하고자 하였다.요인이 무엇인지 또한 이를 뒷받침 하는 진황도의 중요한 관광자원을 파악함과 이에 따른 관광객의 만족도와 재방문 의도를 규명함으로써 진황도 관광객을 지속적으로 끌기 위한 다양한 관광상품의 개발과 타 관광지역과의 차별화 된 진황도만의 관광자원 개발 정책을 위한 시사점과 발전 방향을 제시하고자 한다.\n",
      "원문보기\n",
      "목차검색조회\n",
      "음성듣기\n",
      "\n",
      "요청하신 데이터 수집 작업이 정상적으로 완료되었습니다\n",
      "수집된 결과는 riss.txt 에 저장되었습니다\n"
     ]
    }
   ],
   "source": [
    "import sys \n",
    "f_name = input('결과를 저장할 파일명을 쓰세요(예: riss.txt): ')\n",
    "\n",
    "for i in content_1 :  \n",
    "    file = open(f_name , 'a' , encoding='UTF-8')\n",
    "    print(i.get_text().replace(\"\\n\",\"\"))\n",
    "    file.write('\\n'+ i.get_text())\n",
    "    file.close()    \n",
    "\n",
    "print()\n",
    "print('요청하신 데이터 수집 작업이 정상적으로 완료되었습니다')\n",
    "print('수집된 결과는 %s 에 저장되었습니다' %f_name)"
   ]
  },
  {
   "cell_type": "code",
   "execution_count": null,
   "metadata": {},
   "outputs": [],
   "source": []
  }
 ],
 "metadata": {
  "kernelspec": {
   "display_name": "Python 3 (ipykernel)",
   "language": "python",
   "name": "python3"
  },
  "language_info": {
   "codemirror_mode": {
    "name": "ipython",
    "version": 3
   },
   "file_extension": ".py",
   "mimetype": "text/x-python",
   "name": "python",
   "nbconvert_exporter": "python",
   "pygments_lexer": "ipython3",
   "version": "3.12.4"
  }
 },
 "nbformat": 4,
 "nbformat_minor": 4
}
