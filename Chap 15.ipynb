{
 "cells": [
  {
   "cell_type": "code",
   "execution_count": 7,
   "id": "4dfbf74f",
   "metadata": {},
   "outputs": [
    {
     "name": "stdout",
     "output_type": "stream",
     "text": [
      "================================================================================\n",
      " 네이버 VIEW - 저장할 내용을 목록으로 만들어서 xls , csv 형식으로 저장하기\n",
      "================================================================================\n"
     ]
    },
    {
     "name": "stdin",
     "output_type": "stream",
     "text": [
      "1.크롤링할 키워드는 무엇입니까?:  여행\n",
      "2.수집할 데이터는 몇 건입니까?:  100\n",
      "3.결과를 저장할 폴더이름을 입력해주세요(기본경로: c:\\py_temp\\) : \n"
     ]
    }
   ],
   "source": [
    "# naver view 정보 csv, xls로 저장\n",
    "\n",
    "from selenium import webdriver\n",
    "from selenium.webdriver.common.by import By\n",
    "from selenium.webdriver.chrome.service import Service\n",
    "import time\n",
    "import math\n",
    "import pandas as pd\n",
    "import os\n",
    "\n",
    "print(\"=\" * 80)\n",
    "print(\" 네이버 VIEW - 저장할 내용을 목록으로 만들어서 xls , csv 형식으로 저장하기\")\n",
    "print(\"=\" * 80)\n",
    "\n",
    "query_txt = input('1.크롤링할 키워드는 무엇입니까?: ')\n",
    "cnt = int(input('2.수집할 데이터는 몇 건입니까?: '))\n",
    "page_cnt = math.ceil(cnt / 30)\n",
    "\n",
    "f_dir = input('3.결과를 저장할 폴더이름을 입력해주세요(기본경로: c:\\\\py_temp\\\\) :')\n",
    "if f_dir == '':\n",
    "    f_dir = 'c:\\\\py_temp\\\\'\n",
    "\n",
    "chrome_path = \"chromedriver.exe\" \n",
    "service = Service(chrome_path) \n",
    "driver = webdriver.Chrome(service=service)  \n",
    "\n",
    "driver.get('http://www.naver.com')\n",
    "time.sleep(2)\n",
    "\n",
    "element = driver.find_element(By.ID, \"query\")\n",
    "element.send_keys(query_txt)\n",
    "element.submit()\n",
    "\n",
    "driver.find_element(By.LINK_TEXT, \"블로그\").click()\n",
    "time.sleep(2)\n",
    "\n"
   ]
  },
  {
   "cell_type": "code",
   "execution_count": 9,
   "id": "5283d155",
   "metadata": {},
   "outputs": [
    {
     "name": "stdout",
     "output_type": "stream",
     "text": [
      "2 페이지 정보를 추출하고 있으니 잠시만 기다려 주세요~~^^\n",
      "3 페이지 정보를 추출하고 있으니 잠시만 기다려 주세요~~^^\n",
      "4 페이지 정보를 추출하고 있으니 잠시만 기다려 주세요~~^^\n",
      "5 페이지 정보를 추출하고 있으니 잠시만 기다려 주세요~~^^\n",
      "\n",
      "\n"
     ]
    }
   ],
   "source": [
    "no2 = [ ]           # 게시글 번호 \n",
    "title2 = [ ]        # 게시물 제목 \n",
    "contents2 = [ ]     # 게시글 내용 \n",
    "bdate2 = [ ]        # 작성 일자 \n",
    "nick2 = [ ]         # 블로그 닉네임\n",
    "writer2 =[ ]        # 작성자\n",
    "\n",
    "# 자동 스크롤다운\n",
    "def scroll_down(driver):\n",
    "    driver.execute_script(\"window.scrollTo(0,document.body.scrollHeight);\")\n",
    "    time.sleep(3)\n",
    "\n",
    "if page_cnt > 2 :\n",
    "    i = 1\n",
    "    while (i <= page_cnt):\n",
    "        scroll_down(driver) \n",
    "        i += 1\n",
    "        print('%s 페이지 정보를 추출하고 있으니 잠시만 기다려 주세요~~^^' %i)\n",
    "\n",
    "print(\"\\n\")"
   ]
  },
  {
   "cell_type": "code",
   "execution_count": 11,
   "id": "4c30a4d1",
   "metadata": {},
   "outputs": [],
   "source": [
    "from bs4 import BeautifulSoup\n",
    "\n",
    "html = driver.page_source\n",
    "soup = BeautifulSoup(html, 'html.parser')\n",
    "view_list = soup.find('ul','lst_view _fe_view_infinite_scroll_append_target').find_all('li')\n",
    "\n",
    "no = 1  \n",
    "\n",
    "for i in view_list :\n",
    "\n",
    "    try :\n",
    "        all_title = i.find('div','title_area').find_all('a')\n",
    "        title = all_title[5].get_text( )          # 게시물 제목\n",
    "    except :\n",
    "        continue\n",
    "    else :\n",
    "        no2.append(no)                            \n",
    "        print('1.번호:',no)\n",
    "\n",
    "        title2.append(title)                      \n",
    "        print('2.제목:',title)\n",
    "    \n",
    "        all_title = i.find_all('a')\n",
    "        writer = all_title[4].get_text( )          \n",
    "        writer2.append(writer)                      \n",
    "        print('3.작성자:',writer)\n",
    "        \n",
    "        contents = i.find('div' , 'dsc_link').get_text( )   \n",
    "        contents2.append(contents)                \n",
    "        print('4.요약내용:',contents)\n",
    "\n",
    "        bdate = i.find('span','sub').get_text( )  \n",
    "        bdate2.append(bdate)                     \n",
    "        print('5.작성일자:',bdate)\n",
    "\n",
    "        print(\"\\n\")\n",
    "\n",
    "        if no == cnt :\n",
    "            break\n",
    "\n",
    "        no += 1\n"
   ]
  },
  {
   "cell_type": "code",
   "execution_count": 13,
   "id": "42e2bc02",
   "metadata": {},
   "outputs": [
    {
     "name": "stdout",
     "output_type": "stream",
     "text": [
      " csv 파일 저장 경로: c:\\py_temp\\2025-01-11-03-57-57-여행-Naver_View\\2025-01-11-03-57-57-여행-Naver_View.csv\n",
      " xls 파일 저장 경로: c:\\py_temp\\2025-01-11-03-57-57-여행-Naver_View\\2025-01-11-03-57-57-여행-Naver_View.xlsx\n"
     ]
    }
   ],
   "source": [
    "import openpyxl\n",
    "\n",
    "naver_view = pd.DataFrame()\n",
    "naver_view['번호'] = no2\n",
    "naver_view['제목'] = pd.Series(title2)\n",
    "naver_view['작성자'] =pd.Series(writer2)\n",
    "naver_view['요약내용'] =pd.Series(contents2)\n",
    "naver_view['작성일자'] = pd.Series(bdate2)\n",
    "\n",
    "n = time.localtime()\n",
    "s = '%04d-%02d-%02d-%02d-%02d-%02d' % (n.tm_year, n.tm_mon, n.tm_mday, n.tm_hour, n.tm_min, n.tm_sec)\n",
    "\n",
    "sec_name = 'Naver_View'\n",
    "os.makedirs(f_dir+s+'-'+query_txt+'-'+sec_name)\n",
    "os.chdir(f_dir+s+'-'+query_txt+'-'+sec_name)\n",
    "\n",
    "fc_name=f_dir+s+'-'+query_txt+'-'+sec_name+'\\\\'+s+'-'+query_txt+'-'+sec_name+'.csv'\n",
    "fx_name=f_dir+s+'-'+query_txt+'-'+sec_name+'\\\\'+s+'-'+query_txt+'-'+sec_name+'.xlsx'\n",
    "\n",
    "naver_view.to_csv(fc_name,encoding=\"utf-8-sig\",index=False)\n",
    "print(\" csv 파일 저장 경로: %s\" %fc_name) \n",
    "\n",
    "naver_view.to_excel(fx_name , index=False , engine='openpyxl')\n",
    "print(\" xls 파일 저장 경로: %s\" %fx_name) "
   ]
  },
  {
   "cell_type": "code",
   "execution_count": null,
   "id": "c7dad765-a19e-4e65-b3c6-a70efb748cfb",
   "metadata": {},
   "outputs": [],
   "source": []
  }
 ],
 "metadata": {
  "kernelspec": {
   "display_name": "Python 3 (ipykernel)",
   "language": "python",
   "name": "python3"
  },
  "language_info": {
   "codemirror_mode": {
    "name": "ipython",
    "version": 3
   },
   "file_extension": ".py",
   "mimetype": "text/x-python",
   "name": "python",
   "nbconvert_exporter": "python",
   "pygments_lexer": "ipython3",
   "version": "3.12.4"
  }
 },
 "nbformat": 4,
 "nbformat_minor": 5
}
