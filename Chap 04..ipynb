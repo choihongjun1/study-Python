{
 "cells": [
  {
   "cell_type": "code",
   "execution_count": 2,
   "id": "4501c6aa",
   "metadata": {},
   "outputs": [
    {
     "name": "stdout",
     "output_type": "stream",
     "text": [
      "조회할 사람의 이름을 입력하세요:홍길동\n",
      "홍길동입니다\n",
      "남자입니다\n",
      "활빈당 총수입니다\n"
     ]
    }
   ],
   "source": [
    "# 조건문\n",
    "\n",
    "name = input('조회할 사람의 이름을 입력하세요:')\n",
    "\n",
    "if name == '홍길동' :\n",
    "    print('홍길동입니다')\n",
    "    print('남자입니다')\n",
    "    print('활빈당 총수입니다')"
   ]
  },
  {
   "cell_type": "code",
   "execution_count": 3,
   "id": "654a6b3a",
   "metadata": {},
   "outputs": [
    {
     "ename": "IndentationError",
     "evalue": "unexpected indent (Temp/ipykernel_16696/1830454811.py, line 8)",
     "output_type": "error",
     "traceback": [
      "\u001b[1;36m  File \u001b[1;32m\"C:\\Users\\seoji\\AppData\\Local\\Temp/ipykernel_16696/1830454811.py\"\u001b[1;36m, line \u001b[1;32m8\u001b[0m\n\u001b[1;33m    print('활빈당 총수입니다')\u001b[0m\n\u001b[1;37m    ^\u001b[0m\n\u001b[1;31mIndentationError\u001b[0m\u001b[1;31m:\u001b[0m unexpected indent\n"
     ]
    }
   ],
   "source": [
    "name = input('조회할 사람의 이름을 입력하세요:')\n",
    "\n",
    "if name == '홍길동' :\n",
    "    print('홍길동입니다')\n",
    "    print('남자입니다')\n",
    "        print('활빈당 총수입니다') # 들여쓰기 오류"
   ]
  },
  {
   "cell_type": "code",
   "execution_count": 5,
   "id": "d8e91600",
   "metadata": {},
   "outputs": [
    {
     "name": "stdout",
     "output_type": "stream",
     "text": [
      "조회할 사람의 이름을 입력하세요:일지매\n",
      "홍길동이 아니고 일지매입니다\n",
      "남자인가요?\n",
      "여자인가요?\n"
     ]
    }
   ],
   "source": [
    "name = input('조회할 사람의 이름을 입력하세요:')\n",
    "\n",
    "if name == '홍길동' :\n",
    "    print('홍길동입니다')\n",
    "    print('남자입니다')\n",
    "    print('활빈당 총수입니다')\n",
    "else :\n",
    "    print('홍길동이 아니고 %s입니다' %name)\n",
    "    print('남자인가요?')\n",
    "    print('여자인가요?')"
   ]
  },
  {
   "cell_type": "code",
   "execution_count": 3,
   "id": "0120b295",
   "metadata": {},
   "outputs": [
    {
     "name": "stdout",
     "output_type": "stream",
     "text": [
      "사과,감,자두 중에 하나를 입력하세요:자듀\n",
      "사과,감,자두 중에서 입력하세요\n"
     ]
    }
   ],
   "source": [
    "fruit = input('사과,감,자두 중에 하나를 입력하세요:')\n",
    "\n",
    "if fruit=='사과' :\n",
    "    print('사과입니다')\n",
    "elif fruit=='감' :\n",
    "    print('감입니다')\n",
    "elif fruit=='자두':\n",
    "    print('자두입니다')\n",
    "else :\n",
    "    print('사과,감,자두 중에서 입력하세요')\n",
    "    "
   ]
  },
  {
   "cell_type": "code",
   "execution_count": 7,
   "id": "0a8c2978",
   "metadata": {},
   "outputs": [
    {
     "name": "stdout",
     "output_type": "stream",
     "text": [
      "점수를 입력하세요: 77\n",
      "C등급입니다!\n"
     ]
    }
   ],
   "source": [
    "jumsu = int( input('점수를 입력하세요: '))\n",
    "\n",
    "if jumsu >= 91 and jumsu <= 100 :\n",
    "    print('A등급입니다!')\n",
    "elif jumsu >= 81 and jumsu <= 90 :\n",
    "    print('B등급입니다!')\n",
    "elif jumsu >= 71 and jumsu <= 80 :\n",
    "    print('C등급입니다!')\n",
    "else :\n",
    "    print('D등급입니다!')"
   ]
  },
  {
   "cell_type": "code",
   "execution_count": 9,
   "id": "7ed71907",
   "metadata": {},
   "outputs": [
    {
     "name": "stdout",
     "output_type": "stream",
     "text": [
      "Y 또는 y를 입력하세요: m\n",
      "Y 또는 y를 입력하세요\n"
     ]
    }
   ],
   "source": [
    "answer = input('Y 또는 y를 입력하세요: ')\n",
    "if answer =='Y' or answer == 'y' :\n",
    "    print('입력하신 문자는 %s입니다' %answer)\n",
    "else :\n",
    "    print('Y 또는 y를 입력하세요')"
   ]
  },
  {
   "cell_type": "code",
   "execution_count": 10,
   "id": "20cd208b",
   "metadata": {},
   "outputs": [
    {
     "name": "stdout",
     "output_type": "stream",
     "text": [
      "Y 또는 y를 입력하세요:N\n",
      "입력하신 문자는 N입니다\n"
     ]
    }
   ],
   "source": [
    "answer = input('Y 또는 y를 입력하세요:')\n",
    "if answer != 'Y' and answer != 'y' :\n",
    "    print('입력하신 문자는 %s입니다' %answer)\n",
    "else :\n",
    "    print('Y 또는 y를 입력하셨군요')"
   ]
  },
  {
   "cell_type": "code",
   "execution_count": 11,
   "id": "2bdf0de9",
   "metadata": {},
   "outputs": [
    {
     "name": "stdout",
     "output_type": "stream",
     "text": [
      "Y 또는 y를 입력하세요:ㅛ\n",
      "입력하신 문자는 ㅛ입니다\n"
     ]
    }
   ],
   "source": [
    "answer = input('Y 또는 y를 입력하세요:')\n",
    "if answer != 'Y' and answer != 'y' :\n",
    "    print('입력하신 문자는 %s입니다' %answer)\n",
    "else :\n",
    "    print('Y 또는 y를 입력하셨군요')"
   ]
  },
  {
   "cell_type": "code",
   "execution_count": 12,
   "id": "28da04e7",
   "metadata": {},
   "outputs": [
    {
     "name": "stdout",
     "output_type": "stream",
     "text": [
      "1\n",
      "2\n",
      "3\n"
     ]
    }
   ],
   "source": [
    "no1 = int( input('숫자를 입력하세요:'))\n",
    "if no1%3 == 0 :\n",
    "    print(no1**2)\n",
    "else :\n",
    "    print(no1*0)"
   ]
  },
  {
   "cell_type": "code",
   "execution_count": null,
   "id": "fd7eb691",
   "metadata": {},
   "outputs": [],
   "source": [
    "fruits = input('사과, 감, 귤 중에 어떤 과일을 좋아하세요?: ')\n",
    "if fruits == '사과' :\n",
    "    print(\"Good~~\")\n",
    "elif fruits == '감' :\n",
    "    print(\"Very Good~~\")\n",
    "elif fruits == '귤' :\n",
    "    print(\"So so....\")\n",
    "else :\n",
    "    print(\"사과나 감, 귤 중 하나를 입력하세요~~\")"
   ]
  },
  {
   "cell_type": "code",
   "execution_count": null,
   "id": "19af1482",
   "metadata": {},
   "outputs": [],
   "source": [
    "fruits = input('사과, 감, 귤, 복숭아 중에 어떤 과일을 좋아하세요?: ')\n",
    "if fruits == '사과' or fruits =='감' :\n",
    "    print(\"Very Good~~\")\n",
    "elif fruits == '귤' or fruits == '복숭아' :\n",
    "    print(\"Good~\")\n",
    "else :\n",
    "    print(\"사과나 감, 귤, 복숭아 중 하나를 입력하세요~~\")"
   ]
  },
  {
   "cell_type": "code",
   "execution_count": null,
   "id": "f36ec97d",
   "metadata": {},
   "outputs": [],
   "source": [
    "menu = int(input('''\n",
    "1.짜장면 - 5,000원          2.짬뽕 - 6,000원\n",
    "3.군만두 - 8,000원          4.탕수육 - 10,000원 \n",
    "\n",
    "1. 위 메뉴 중 주문할 메뉴의 번호를 쓰세요:  ''') )\n",
    "\n",
    "qty = int(input(\"2. 위 메뉴의 주문 수량을 쓰세요: \"))\n",
    "print(\"\\n\")\n",
    "\n",
    "if (menu == 1):\n",
    "    print( '주문하신 메뉴는 짜장면, 주문 수량은 %s 그릇, 주문금액은 %s 입니다' %(qty , 5000*qty))\n",
    "elif ( menu == 2) :\n",
    "    print( '주문하신 메뉴는 짬뽕, 주문 수량은 %s 그릇, 주문금액은 %s 입니다' %(qty , 6000*qty))\n",
    "elif ( menu == 3 ) :\n",
    "    print( '주문하신 메뉴는 군만두, 주문 수량은 %s 그릇, 주문금액은 %s 입니다' %(qty , 8000*qty))\n",
    "elif ( menu == 4) :\n",
    "    print( '주문하신 메뉴는 탕수육, 주문 수량은 %s 그릇, 주문금액은 %s 입니다' %(qty , 10000*qty))\n",
    "else :\n",
    "    print('메뉴선택을 잘못하셨습니다')"
   ]
  }
 ],
 "metadata": {
  "kernelspec": {
   "display_name": "Python 3 (ipykernel)",
   "language": "python",
   "name": "python3"
  },
  "language_info": {
   "codemirror_mode": {
    "name": "ipython",
    "version": 3
   },
   "file_extension": ".py",
   "mimetype": "text/x-python",
   "name": "python",
   "nbconvert_exporter": "python",
   "pygments_lexer": "ipython3",
   "version": "3.12.4"
  }
 },
 "nbformat": 4,
 "nbformat_minor": 5
}
