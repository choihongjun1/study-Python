{
 "cells": [
  {
   "cell_type": "code",
   "execution_count": 1,
   "id": "4d925e54",
   "metadata": {},
   "outputs": [
    {
     "name": "stdout",
     "output_type": "stream",
     "text": [
      "현재 디렉토리(폴더): C:\\Users\\jun05\\pythonLec\n",
      "이동 후 디렉토리(폴더): c:\\test\n"
     ]
    }
   ],
   "source": [
    "# 디렉토리와 파일 관리\n",
    "\n",
    "import os\n",
    "\n",
    "print('현재 디렉토리(폴더):' , os.getcwd() )\n",
    "os.chdir('c:\\\\test')\n",
    "print('이동 후 디렉토리(폴더):' , os.getcwd() )"
   ]
  },
  {
   "cell_type": "code",
   "execution_count": 3,
   "id": "d69a97a8",
   "metadata": {},
   "outputs": [
    {
     "name": "stdout",
     "output_type": "stream",
     "text": [
      ".ipynb_checkpoints\n",
      "debug.log\n",
      "Untitled.ipynb\n",
      "파이썬 연습1.ipynb\n"
     ]
    }
   ],
   "source": [
    "os.listdir()\n",
    "\n",
    "for i in os.listdir('c:\\\\py_temp'):\n",
    "    print(i)\n",
    "    "
   ]
  },
  {
   "cell_type": "code",
   "execution_count": 4,
   "id": "3382c4d2",
   "metadata": {},
   "outputs": [
    {
     "name": "stdout",
     "output_type": "stream",
     "text": [
      "True\n",
      "False\n"
     ]
    }
   ],
   "source": [
    "print( os.path.exists('c:\\\\py_temp'))\n",
    "print( os.path.exists('c:\\\\temp100'))"
   ]
  },
  {
   "cell_type": "code",
   "execution_count": 5,
   "id": "a4f427c1",
   "metadata": {},
   "outputs": [
    {
     "ename": "FileNotFoundError",
     "evalue": "[WinError 3] 지정된 경로를 찾을 수 없습니다: 'c:\\\\temp1\\\\temp2'",
     "output_type": "error",
     "traceback": [
      "\u001b[1;31m---------------------------------------------------------------------------\u001b[0m",
      "\u001b[1;31mFileNotFoundError\u001b[0m                         Traceback (most recent call last)",
      "\u001b[1;32m~\\AppData\\Local\\Temp/ipykernel_18120/2319811968.py\u001b[0m in \u001b[0;36m<module>\u001b[1;34m\u001b[0m\n\u001b[0;32m      1\u001b[0m \u001b[1;31m#mkdir( ) 함수와 makedirs() 함수\u001b[0m\u001b[1;33m\u001b[0m\u001b[1;33m\u001b[0m\u001b[1;33m\u001b[0m\u001b[0m\n\u001b[1;32m----> 2\u001b[1;33m \u001b[0mos\u001b[0m\u001b[1;33m.\u001b[0m\u001b[0mmkdir\u001b[0m\u001b[1;33m(\u001b[0m\u001b[1;34m'c:\\\\temp1\\\\temp2'\u001b[0m\u001b[1;33m)\u001b[0m\u001b[1;33m\u001b[0m\u001b[1;33m\u001b[0m\u001b[0m\n\u001b[0m",
      "\u001b[1;31mFileNotFoundError\u001b[0m: [WinError 3] 지정된 경로를 찾을 수 없습니다: 'c:\\\\temp1\\\\temp2'"
     ]
    }
   ],
   "source": [
    "os.mkdir('c:\\\\temp1\\\\temp2') # 오류"
   ]
  },
  {
   "cell_type": "code",
   "execution_count": 6,
   "id": "ba20e26d",
   "metadata": {},
   "outputs": [],
   "source": [
    "os.makedirs('c:\\\\temp1\\\\temp2')"
   ]
  },
  {
   "cell_type": "code",
   "execution_count": 7,
   "id": "e3ee15fb",
   "metadata": {},
   "outputs": [
    {
     "ename": "FileExistsError",
     "evalue": "[WinError 183] 파일이 이미 있으므로 만들 수 없습니다: 'c:\\\\temp1\\\\temp2'",
     "output_type": "error",
     "traceback": [
      "\u001b[1;31m---------------------------------------------------------------------------\u001b[0m",
      "\u001b[1;31mFileExistsError\u001b[0m                           Traceback (most recent call last)",
      "\u001b[1;32m~\\AppData\\Local\\Temp/ipykernel_18120/56463846.py\u001b[0m in \u001b[0;36m<module>\u001b[1;34m\u001b[0m\n\u001b[0;32m      1\u001b[0m \u001b[1;31m#동일한 이름의 폴더가 있을경우 에러 발생\u001b[0m\u001b[1;33m\u001b[0m\u001b[1;33m\u001b[0m\u001b[1;33m\u001b[0m\u001b[0m\n\u001b[1;32m----> 2\u001b[1;33m \u001b[0mos\u001b[0m\u001b[1;33m.\u001b[0m\u001b[0mmakedirs\u001b[0m\u001b[1;33m(\u001b[0m\u001b[1;34m'c:\\\\temp1\\\\temp2'\u001b[0m\u001b[1;33m)\u001b[0m\u001b[1;33m\u001b[0m\u001b[1;33m\u001b[0m\u001b[0m\n\u001b[0m",
      "\u001b[1;32mc:\\program files\\python37\\lib\\os.py\u001b[0m in \u001b[0;36mmakedirs\u001b[1;34m(name, mode, exist_ok)\u001b[0m\n\u001b[0;32m    219\u001b[0m             \u001b[1;32mreturn\u001b[0m\u001b[1;33m\u001b[0m\u001b[1;33m\u001b[0m\u001b[0m\n\u001b[0;32m    220\u001b[0m     \u001b[1;32mtry\u001b[0m\u001b[1;33m:\u001b[0m\u001b[1;33m\u001b[0m\u001b[1;33m\u001b[0m\u001b[0m\n\u001b[1;32m--> 221\u001b[1;33m         \u001b[0mmkdir\u001b[0m\u001b[1;33m(\u001b[0m\u001b[0mname\u001b[0m\u001b[1;33m,\u001b[0m \u001b[0mmode\u001b[0m\u001b[1;33m)\u001b[0m\u001b[1;33m\u001b[0m\u001b[1;33m\u001b[0m\u001b[0m\n\u001b[0m\u001b[0;32m    222\u001b[0m     \u001b[1;32mexcept\u001b[0m \u001b[0mOSError\u001b[0m\u001b[1;33m:\u001b[0m\u001b[1;33m\u001b[0m\u001b[1;33m\u001b[0m\u001b[0m\n\u001b[0;32m    223\u001b[0m         \u001b[1;31m# Cannot rely on checking for EEXIST, since the operating system\u001b[0m\u001b[1;33m\u001b[0m\u001b[1;33m\u001b[0m\u001b[1;33m\u001b[0m\u001b[0m\n",
      "\u001b[1;31mFileExistsError\u001b[0m: [WinError 183] 파일이 이미 있으므로 만들 수 없습니다: 'c:\\\\temp1\\\\temp2'"
     ]
    }
   ],
   "source": [
    "os.makedirs('c:\\\\temp1\\\\temp2') # 오류"
   ]
  },
  {
   "cell_type": "code",
   "execution_count": 8,
   "id": "57854730",
   "metadata": {},
   "outputs": [],
   "source": [
    "os.rmdir('c:\\\\temp1\\\\temp2')\n",
    "os.rmdir('c:\\\\temp1')\n",
    "\n",
    "os.makedirs('c:\\\\temp1\\\\temp2')\n",
    "os.removedirs('c:\\\\temp1\\\\temp2')"
   ]
  },
  {
   "cell_type": "code",
   "execution_count": 3,
   "id": "864416e4",
   "metadata": {},
   "outputs": [
    {
     "name": "stdin",
     "output_type": "stream",
     "text": [
      "폴더 이름을 입력하세요(예:c:\\temp) :   c:\\\\test\n"
     ]
    },
    {
     "name": "stdout",
     "output_type": "stream",
     "text": [
      "입력하신 경로가 존재하여 c:\\\\test_2 로 폴더를 생성했습니다\n"
     ]
    }
   ],
   "source": [
    "import os\n",
    "\n",
    "dir1 = input(\"폴더 이름을 입력하세요(예:c:\\\\temp) :  \")\n",
    "os.getcwd()\n",
    "os.chdir(dir1[0:3])\n",
    "\n",
    "dir_list = os.listdir()\n",
    "\n",
    "if  os.path.isdir(dir1) :\n",
    "    dir_name=dir1+'_2'\n",
    "    os.makedirs(dir_name)\n",
    "    print('입력하신 경로가 존재하여 %s 로 폴더를 생성했습니다' %dir_name)\n",
    "else :\n",
    "    os.mkdir(dir1)\n",
    "    print('입력하신 %s 경로의 폴더를 생성했습니다' %dir1)\n"
   ]
  },
  {
   "cell_type": "code",
   "execution_count": 9,
   "id": "dae60ee0",
   "metadata": {},
   "outputs": [
    {
     "name": "stdout",
     "output_type": "stream",
     "text": [
      "c:\\py_temp2\n"
     ]
    }
   ],
   "source": [
    "os.makedirs('c:\\\\py_temp2')\n",
    "os.chdir('c:\\\\py_temp2')\n",
    "print( os.getcwd() )\n",
    "\n",
    "file=open('test1.txt' , 'w')\n",
    "file.write('텍스트 파일에 처음 쓴 글입니다')\n",
    "file.close( )"
   ]
  },
  {
   "cell_type": "code",
   "execution_count": 12,
   "id": "c0d30b2a",
   "metadata": {},
   "outputs": [],
   "source": [
    "file2=open('test1.txt' , 'w')\n",
    "file2.write('텍스트 파일에 두번째 쓴 글입니다')\n",
    "file2.close( )"
   ]
  },
  {
   "cell_type": "code",
   "execution_count": 13,
   "id": "991c3380",
   "metadata": {},
   "outputs": [],
   "source": [
    "file3=open('test1.txt' , 'a')\n",
    "file3.write('텍스트 파일에 세번째 쓴 글입니다')\n",
    "file3.close( )"
   ]
  },
  {
   "cell_type": "code",
   "execution_count": 14,
   "id": "cff437b1",
   "metadata": {},
   "outputs": [],
   "source": [
    "file4=open('test1.txt' , 'a')\n",
    "file4.write('\\n' + '텍스트 파일에 네번째 쓴 글입니다')\n",
    "file3.close( )"
   ]
  },
  {
   "cell_type": "code",
   "execution_count": 17,
   "id": "1ab428e9",
   "metadata": {},
   "outputs": [
    {
     "name": "stdout",
     "output_type": "stream",
     "text": [
      "['1.새우깡\\n', '2.맛동산\\n', '3.감자깡\\n', '4.고구마깡\\n', '5.꼬깔콘']\n",
      "\n",
      "\n",
      "1.새우깡\n",
      "\n",
      "2.맛동산\n",
      "\n",
      "\n",
      "\n",
      "1.새우깡\n",
      "\n",
      "2.맛동산\n",
      "\n",
      "3.감자깡\n",
      "\n",
      "4.고구마깡\n",
      "\n",
      "5.꼬깔콘\n"
     ]
    }
   ],
   "source": [
    "f=open('c:\\\\py_temp2\\\\readme.txt' ,'r')\n",
    "snack = f.readlines()\n",
    "print(snack)\n",
    "print('\\n')\n",
    "\n",
    "print(snack[0])\n",
    "print(snack[1])\n",
    "print('\\n')\n",
    "\n",
    "for i in snack :\n",
    "    print(i)\n",
    "    "
   ]
  },
  {
   "cell_type": "code",
   "execution_count": 19,
   "id": "7a98ad4f",
   "metadata": {},
   "outputs": [
    {
     "data": {
      "text/html": [
       "<div>\n",
       "<style scoped>\n",
       "    .dataframe tbody tr th:only-of-type {\n",
       "        vertical-align: middle;\n",
       "    }\n",
       "\n",
       "    .dataframe tbody tr th {\n",
       "        vertical-align: top;\n",
       "    }\n",
       "\n",
       "    .dataframe thead th {\n",
       "        text-align: right;\n",
       "    }\n",
       "</style>\n",
       "<table border=\"1\" class=\"dataframe\">\n",
       "  <thead>\n",
       "    <tr style=\"text-align: right;\">\n",
       "      <th></th>\n",
       "      <th>과목번호</th>\n",
       "      <th>과목명</th>\n",
       "    </tr>\n",
       "  </thead>\n",
       "  <tbody>\n",
       "    <tr>\n",
       "      <th>0</th>\n",
       "      <td>1</td>\n",
       "      <td>수학</td>\n",
       "    </tr>\n",
       "    <tr>\n",
       "      <th>1</th>\n",
       "      <td>2</td>\n",
       "      <td>과학</td>\n",
       "    </tr>\n",
       "    <tr>\n",
       "      <th>2</th>\n",
       "      <td>3</td>\n",
       "      <td>빅데이터</td>\n",
       "    </tr>\n",
       "  </tbody>\n",
       "</table>\n",
       "</div>"
      ],
      "text/plain": [
       "   과목번호   과목명\n",
       "0     1    수학\n",
       "1     2    과학\n",
       "2     3  빅데이터"
      ]
     },
     "execution_count": 19,
     "metadata": {},
     "output_type": "execute_result"
    }
   ],
   "source": [
    "import pandas as pd\n",
    "\n",
    "no=[ ]\n",
    "s_name = [ ]\n",
    "\n",
    "no.append(1)\n",
    "no.append(2)\n",
    "no.append(3)\n",
    "\n",
    "s_name.append('수학')\n",
    "s_name.append('과학')\n",
    "s_name.append('빅데이터')\n",
    "\n",
    "subject = pd.DataFrame( )\n",
    "subject['과목번호'] = no\n",
    "subject['과목명'] = s_name\n",
    "subject"
   ]
  },
  {
   "cell_type": "code",
   "execution_count": 7,
   "id": "52ec4eb3-eb05-45b2-8a1f-ea40d743f258",
   "metadata": {},
   "outputs": [
    {
     "name": "stdout",
     "output_type": "stream",
     "text": [
      "Collecting xlwt\n",
      "  Downloading xlwt-1.3.0-py2.py3-none-any.whl.metadata (3.5 kB)\n",
      "Downloading xlwt-1.3.0-py2.py3-none-any.whl (99 kB)\n",
      "   ---------------------------------------- 0.0/100.0 kB ? eta -:--:--\n",
      "   ---- ----------------------------------- 10.2/100.0 kB ? eta -:--:--\n",
      "   ------------------------------------ --- 92.2/100.0 kB 1.8 MB/s eta 0:00:01\n",
      "   ---------------------------------------- 100.0/100.0 kB 1.2 MB/s eta 0:00:00\n",
      "Installing collected packages: xlwt\n",
      "Successfully installed xlwt-1.3.0\n",
      "Note: you may need to restart the kernel to use updated packages.\n"
     ]
    }
   ],
   "source": [
    "pip install xlwt"
   ]
  },
  {
   "cell_type": "code",
   "execution_count": null,
   "id": "94dceb9f",
   "metadata": {},
   "outputs": [],
   "source": [
    "subject.to_csv('c:\\\\py_temp2\\\\subject.csv', encoding='utf-8-sig',index=False)\n",
    "\n",
    "subject.to_excel('c:\\\\py_temp2\\\\subjcet.xls',index=False)"
   ]
  },
  {
   "cell_type": "code",
   "execution_count": 18,
   "id": "d681ea6c-6e16-4c8e-beff-f7b6cfc95f1c",
   "metadata": {},
   "outputs": [],
   "source": [
    "os.chdir('C:\\\\Users\\\\jun05\\\\pythonLec')"
   ]
  },
  {
   "cell_type": "code",
   "execution_count": 20,
   "id": "4312eed7",
   "metadata": {},
   "outputs": [
    {
     "data": {
      "text/plain": [
       "{'전우치': 'aaa@gmail.com', '일지매': 'bbb@daum.net', '홍길동': 'ccc@naver.com'}"
      ]
     },
     "execution_count": 20,
     "metadata": {},
     "output_type": "execute_result"
    }
   ],
   "source": [
    "import openpyxl\n",
    "wb=openpyxl.load_workbook('email.xlsx')\n",
    "sheet = wb['Sheet1']\n",
    "\n",
    "contents={ }\n",
    "for i in range(2,sheet.max_row + 1) :\n",
    "    name=sheet.cell(row=i , column=1).value\n",
    "    email=sheet.cell(row=i, column=2).value\n",
    "    contents[name]=email\n",
    "    \n",
    "contents    "
   ]
  },
  {
   "cell_type": "code",
   "execution_count": 22,
   "id": "04ea55b6",
   "metadata": {},
   "outputs": [
    {
     "data": {
      "text/html": [
       "<div>\n",
       "<style scoped>\n",
       "    .dataframe tbody tr th:only-of-type {\n",
       "        vertical-align: middle;\n",
       "    }\n",
       "\n",
       "    .dataframe tbody tr th {\n",
       "        vertical-align: top;\n",
       "    }\n",
       "\n",
       "    .dataframe thead th {\n",
       "        text-align: right;\n",
       "    }\n",
       "</style>\n",
       "<table border=\"1\" class=\"dataframe\">\n",
       "  <thead>\n",
       "    <tr style=\"text-align: right;\">\n",
       "      <th></th>\n",
       "      <th>name</th>\n",
       "      <th>email</th>\n",
       "    </tr>\n",
       "  </thead>\n",
       "  <tbody>\n",
       "    <tr>\n",
       "      <th>0</th>\n",
       "      <td>전우치</td>\n",
       "      <td>aaa@gmail.com</td>\n",
       "    </tr>\n",
       "    <tr>\n",
       "      <th>1</th>\n",
       "      <td>일지매</td>\n",
       "      <td>bbb@daum.net</td>\n",
       "    </tr>\n",
       "    <tr>\n",
       "      <th>2</th>\n",
       "      <td>홍길동</td>\n",
       "      <td>ccc@naver.com</td>\n",
       "    </tr>\n",
       "  </tbody>\n",
       "</table>\n",
       "</div>"
      ],
      "text/plain": [
       "  name          email\n",
       "0  전우치  aaa@gmail.com\n",
       "1  일지매   bbb@daum.net\n",
       "2  홍길동  ccc@naver.com"
      ]
     },
     "execution_count": 22,
     "metadata": {},
     "output_type": "execute_result"
    }
   ],
   "source": [
    "import pandas as pd\n",
    "data = pd.read_excel('email.xlsx',sheet_name='Sheet1')\n",
    "data"
   ]
  },
  {
   "cell_type": "code",
   "execution_count": 5,
   "id": "777f831e",
   "metadata": {},
   "outputs": [
    {
     "data": {
      "text/html": [
       "<div>\n",
       "<style scoped>\n",
       "    .dataframe tbody tr th:only-of-type {\n",
       "        vertical-align: middle;\n",
       "    }\n",
       "\n",
       "    .dataframe tbody tr th {\n",
       "        vertical-align: top;\n",
       "    }\n",
       "\n",
       "    .dataframe thead th {\n",
       "        text-align: right;\n",
       "    }\n",
       "</style>\n",
       "<table border=\"1\" class=\"dataframe\">\n",
       "  <thead>\n",
       "    <tr style=\"text-align: right;\">\n",
       "      <th></th>\n",
       "      <th>name</th>\n",
       "      <th>email</th>\n",
       "    </tr>\n",
       "  </thead>\n",
       "  <tbody>\n",
       "    <tr>\n",
       "      <th>0</th>\n",
       "      <td>전우치</td>\n",
       "      <td>aaa@gmail.com</td>\n",
       "    </tr>\n",
       "    <tr>\n",
       "      <th>1</th>\n",
       "      <td>일지매</td>\n",
       "      <td>bbb@daum.net</td>\n",
       "    </tr>\n",
       "    <tr>\n",
       "      <th>2</th>\n",
       "      <td>홍길동</td>\n",
       "      <td>ccc@naver.com</td>\n",
       "    </tr>\n",
       "  </tbody>\n",
       "</table>\n",
       "</div>"
      ],
      "text/plain": [
       "  name          email\n",
       "0  전우치  aaa@gmail.com\n",
       "1  일지매   bbb@daum.net\n",
       "2  홍길동  ccc@naver.com"
      ]
     },
     "execution_count": 5,
     "metadata": {},
     "output_type": "execute_result"
    }
   ],
   "source": [
    "import pandas as pd\n",
    "data2 = pd.read_csv('email.csv',encoding='cp949')\n",
    "data2"
   ]
  },
  {
   "cell_type": "code",
   "execution_count": null,
   "id": "25c290ef",
   "metadata": {},
   "outputs": [],
   "source": []
  }
 ],
 "metadata": {
  "kernelspec": {
   "display_name": "Python 3 (ipykernel)",
   "language": "python",
   "name": "python3"
  },
  "language_info": {
   "codemirror_mode": {
    "name": "ipython",
    "version": 3
   },
   "file_extension": ".py",
   "mimetype": "text/x-python",
   "name": "python",
   "nbconvert_exporter": "python",
   "pygments_lexer": "ipython3",
   "version": "3.12.4"
  }
 },
 "nbformat": 4,
 "nbformat_minor": 5
}
