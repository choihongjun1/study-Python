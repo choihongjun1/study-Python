{
 "cells": [
  {
   "cell_type": "code",
   "execution_count": 1,
   "id": "10f9d0f3",
   "metadata": {},
   "outputs": [
    {
     "name": "stdout",
     "output_type": "stream",
     "text": [
      "1.더하기 예 : 2+4= 6\n",
      "2.빼기 예 : 4-2=  2\n",
      "3.곱하기 예 : 4X2= 8\n",
      "4.나누기 예 : 4/2= 2.0\n",
      "5.나누기에서 몫만 출력하기 예: 4//2= 2\n",
      "6.나누기에서 나머지값만 출력하기 예: 4%2= 0\n",
      "7.주어진 숫자의 승수값 출력하기 예: 4**2= 16\n"
     ]
    }
   ],
   "source": [
    "# 연산자와 데이터 유형\n",
    "\n",
    "print('1.더하기 예 : 2+4=' , 2+4)\n",
    "\n",
    "print('2.빼기 예 : 4-2=', 4-2)\n",
    "\n",
    "print('3.곱하기 예 : 4X2=' , 4*2)\n",
    "\n",
    "print('4.나누기 예 : 4/2=' , 4/2)\n",
    "\n",
    "print('5.나누기에서 몫만 출력하기 예: 4//2=' , 4//2)\n",
    "\n",
    "print('6.나누기에서 나머지값만 출력하기 예: 4%2=' , 4%2)\n",
    "\n",
    "print('7.주어진 숫자의 승수값 출력하기 예: 4**2=', 4**2)\n"
   ]
  },
  {
   "cell_type": "code",
   "execution_count": 3,
   "id": "17a454f6",
   "metadata": {},
   "outputs": [
    {
     "name": "stdout",
     "output_type": "stream",
     "text": [
      "변수 i에 저장된 값은 1입니다\n",
      "변수 i에 저장된 값은 1입니다\n"
     ]
    }
   ],
   "source": [
    "i=0\n",
    "i = i+1\n",
    "print('변수 i에 저장된 값은 %s입니다' %i)\n",
    "\n",
    "i=0\n",
    "i += 1\n",
    "print('변수 i에 저장된 값은 %s입니다' %i) \n"
   ]
  },
  {
   "cell_type": "code",
   "execution_count": 4,
   "id": "f0062f7f",
   "metadata": {},
   "outputs": [
    {
     "name": "stdout",
     "output_type": "stream",
     "text": [
      "첫번째 숫자 입력:3\n",
      "두번째 숫자 입력:2\n",
      "첫번째 숫자는 3이고 두번째 숫자는 2이며 , \n",
      "두 숫자의 합은 32 입니다\n"
     ]
    }
   ],
   "source": [
    "no1 = input('첫번째 숫자 입력:')\n",
    "no2 = input('두번째 숫자 입력:')\n",
    "\n",
    "print('''첫번째 숫자는 %s 이고 두번째 숫자는 %s 이며 , \n",
    "두 숫자의 합은 %s 입니다''' %(no1 , no2 , no1 + no2))\n"
   ]
  },
  {
   "cell_type": "code",
   "execution_count": 6,
   "id": "3115cce0",
   "metadata": {},
   "outputs": [
    {
     "name": "stdout",
     "output_type": "stream",
     "text": [
      "첫번째 숫자 입력:3\n",
      "두번째 숫자 입력:2\n",
      "첫번째 숫자는 3 이고 두번째 숫자는 2 이며 , \n",
      "두 숫자의 합은 5 입니다\n"
     ]
    }
   ],
   "source": [
    "no1 = int( input('첫번째 숫자 입력:') )\n",
    "no2 = int( input('두번째 숫자 입력:') )\n",
    "\n",
    "print('''첫번째 숫자는 %s 이고 두번째 숫자는 %s 이며 , \n",
    "두 숫자의 합은 %s 입니다''' %(no1 , no2 , no1 + no2))\n"
   ]
  },
  {
   "cell_type": "code",
   "execution_count": 7,
   "id": "4bd69f6e",
   "metadata": {},
   "outputs": [
    {
     "name": "stdout",
     "output_type": "stream",
     "text": [
      "첫번째 실수를 입력하세요:3.5\n",
      "두번째 실수를 입력하세요:1.5\n",
      "첫번째 수는 3.5 이고 두번째 수는 1.5 이며 , \n",
      "두 수를 합친 수는 3.51.5 입니다\n"
     ]
    }
   ],
   "source": [
    "fvar1 = input('첫번째 실수를 입력하세요:') \n",
    "fvar2 = input('두번째 실수를 입력하세요:') \n",
    "\n",
    "print('''첫번째 수는 %s 이고 두번째 수는 %s 이며 , \n",
    "두 수를 합친 수는 %s 입니다''' %(fvar1 , fvar2 , fvar1 + fvar2))"
   ]
  },
  {
   "cell_type": "code",
   "execution_count": 8,
   "id": "762ab8a1",
   "metadata": {},
   "outputs": [
    {
     "name": "stdout",
     "output_type": "stream",
     "text": [
      "첫번째 실수를 입력하세요:3.1\n",
      "두번째 실수를 입력하세요:1.5\n",
      "첫번째 수는 3.1 이고 두번째 수는 1.5 이며 , \n",
      "두 수를 합친 수는 4.6 입니다\n"
     ]
    }
   ],
   "source": [
    "fvar1 = float( input('첫번째 실수를 입력하세요:') ) \n",
    "fvar2 = float( input('두번째 실수를 입력하세요:') )\n",
    "\n",
    "print('''첫번째 수는 %s 이고 두번째 수는 %s 이며 , \n",
    "두 수를 합친 수는 %s 입니다''' %(fvar1 , fvar2 , fvar1 + fvar2))"
   ]
  },
  {
   "cell_type": "code",
   "execution_count": 9,
   "id": "933d4387",
   "metadata": {},
   "outputs": [
    {
     "name": "stdout",
     "output_type": "stream",
     "text": [
      "원래값:3.45678 , 반올림후 값: 3\n",
      "원래값:3.56789 , 반올림후 값: 4\n"
     ]
    }
   ],
   "source": [
    "no1 = 3.45678\n",
    "no2 = 3.56789\n",
    "print('원래값:%s , 반올림후 값: %s' %(no1, round(no1) ) )\n",
    "print('원래값:%s , 반올림후 값: %s' %(no2, round(no2) ) )"
   ]
  },
  {
   "cell_type": "code",
   "execution_count": 12,
   "id": "b2bb38b5",
   "metadata": {},
   "outputs": [
    {
     "name": "stdout",
     "output_type": "stream",
     "text": [
      "반올림하기 전 원래값:  1.6666666666666667\n",
      "소수 첫째자리까지 반올림하기: 1.7\n",
      "소수 둘째자리까지 반올림하기: 1.67\n"
     ]
    }
   ],
   "source": [
    "no1 = 3\n",
    "no2 = 5\n",
    "print('반올림하기 전 원래값: ' , no2 / no1)\n",
    "print('소수 첫째자리까지 반올림하기:' , round(no2 / no1 , 1))\n",
    "print('소수 둘째자리까지 반올림하기:' , round(no2 / no1 , 2))"
   ]
  },
  {
   "cell_type": "code",
   "execution_count": 13,
   "id": "d5e79783",
   "metadata": {},
   "outputs": [
    {
     "name": "stdout",
     "output_type": "stream",
     "text": [
      "버림하기 전 원래값:  1.6666666666666667\n",
      "소수 첫째자리까지 버림하기: 1\n"
     ]
    }
   ],
   "source": [
    "import math\n",
    "\n",
    "no1 = 3\n",
    "no2 = 5\n",
    "print('버림하기 전 원래값: ', no2 / no1)\n",
    "print('소수 첫째자리까지 버림하기:' , math.trunc(no2/no1))"
   ]
  },
  {
   "cell_type": "code",
   "execution_count": 14,
   "id": "45b4b566",
   "metadata": {},
   "outputs": [
    {
     "name": "stdout",
     "output_type": "stream",
     "text": [
      "총 몇건의 데이터를 수집할까요? :16\n",
      "총 2 페이지까지 데이터를 수집해야 합니다\n"
     ]
    }
   ],
   "source": [
    "cnt=int( input('총 몇건의 데이터를 수집할까요? :') )\n",
    "page_cnt = math.ceil( cnt / 15 )\n",
    "print('총 %s 페이지까지 데이터를 수집해야 합니다' %page_cnt)"
   ]
  },
  {
   "cell_type": "code",
   "execution_count": 15,
   "id": "e84e044b",
   "metadata": {},
   "outputs": [
    {
     "name": "stdout",
     "output_type": "stream",
     "text": [
      "4.9 보다 작으면서 가장 가까운 정수는 4 입니다\n",
      "4.1 보다 작으면서 가장 가까운 정수는 4 입니다\n"
     ]
    }
   ],
   "source": [
    "import math\n",
    "\n",
    "no1 = 4.9\n",
    "no2 = 4.1\n",
    "\n",
    "print('%s 보다 작으면서 가장 가까운 정수는 %s 입니다' %(no1,math.floor(no1)))\n",
    "print('%s 보다 작으면서 가장 가까운 정수는 %s 입니다' %(no2,math.floor(no2)))"
   ]
  },
  {
   "cell_type": "code",
   "execution_count": 16,
   "id": "0bf43d63",
   "metadata": {},
   "outputs": [
    {
     "name": "stdout",
     "output_type": "stream",
     "text": [
      "파이썬완전쉽죠?\n",
      "파\n",
      "이\n"
     ]
    }
   ],
   "source": [
    "str1 = '파이썬완전쉽죠?'\n",
    "print(str1)\n",
    "print(str1[0])\n",
    "print(str1[1])"
   ]
  },
  {
   "cell_type": "code",
   "execution_count": 17,
   "id": "bcd94117",
   "metadata": {},
   "outputs": [
    {
     "name": "stdout",
     "output_type": "stream",
     "text": [
      "파이썬완전쉽죠?\n",
      "파이썬완\n"
     ]
    }
   ],
   "source": [
    "str1='파이썬완전쉽죠?'\n",
    "print(str1)\n",
    "\n",
    "print(str1[0:4])"
   ]
  },
  {
   "cell_type": "code",
   "execution_count": 18,
   "id": "21caacd7",
   "metadata": {},
   "outputs": [
    {
     "name": "stdout",
     "output_type": "stream",
     "text": [
      " 완전 쉽죠?\n",
      "파이썬\n"
     ]
    }
   ],
   "source": [
    "str1 = '파이썬 완전 쉽죠?'\n",
    "\n",
    "print(str1[3: ])\n",
    "print(str1[ :3])"
   ]
  },
  {
   "cell_type": "code",
   "execution_count": 19,
   "id": "394d405f",
   "metadata": {},
   "outputs": [
    {
     "name": "stdout",
     "output_type": "stream",
     "text": [
      "<- 이쪽 끝에 공백 있었어요\n",
      "오른쪽 끝에 공백 있었어요 ->\n",
      "<-양쪽 끝에 공백 있었어요->\n"
     ]
    }
   ],
   "source": [
    "str3 ='     <- 이쪽 끝에 공백 있었어요'\n",
    "str4 ='오른쪽 끝에 공백 있었어요 ->   '\n",
    "str5 ='   <-양쪽 끝에 공백 있었어요->   '\n",
    "\n",
    "print( str3.lstrip( ) )\n",
    "print( str4.rstrip( ) )\n",
    "print( str5.strip( ) )"
   ]
  },
  {
   "cell_type": "code",
   "execution_count": 20,
   "id": "2a504567",
   "metadata": {},
   "outputs": [
    {
     "name": "stdout",
     "output_type": "stream",
     "text": [
      "새우도 해산물인가요?\n"
     ]
    }
   ],
   "source": [
    "str6='새우깡도 해산물인가요?'\n",
    "print( str6.replace('새우깡','새우'))"
   ]
  },
  {
   "cell_type": "code",
   "execution_count": 21,
   "id": "b89f09a6",
   "metadata": {},
   "outputs": [
    {
     "name": "stdout",
     "output_type": "stream",
     "text": [
      "['02', '1234', '5678']\n",
      "['02', '1234-5678']\n"
     ]
    }
   ],
   "source": [
    "tel = '02-1234-5678'\n",
    "print( tel.split('-'))\n",
    "print( tel.split('-',1))"
   ]
  },
  {
   "cell_type": "code",
   "execution_count": 22,
   "id": "d2707fa2",
   "metadata": {},
   "outputs": [
    {
     "name": "stdout",
     "output_type": "stream",
     "text": [
      "10\n",
      "3\n"
     ]
    }
   ],
   "source": [
    "str1 = '파이썬 완전 좋아요'\n",
    "str2 = ['파이썬','웹크롤러','가치랩스']\n",
    "\n",
    "print( len(str1) )\n",
    "print( len(str2) )"
   ]
  },
  {
   "cell_type": "code",
   "execution_count": 23,
   "id": "5f571997",
   "metadata": {},
   "outputs": [
    {
     "name": "stdout",
     "output_type": "stream",
     "text": [
      "================================================================================\n",
      "문자열로 연산하기 실습\n",
      "++++++++++++++++++++++++++++++++++++++++++++++++++++++++++++++++++++++++++++++++\n"
     ]
    }
   ],
   "source": [
    "print('=' *80)\n",
    "print('문자열로 연산하기 실습')\n",
    "print('+' *80)"
   ]
  },
  {
   "cell_type": "code",
   "execution_count": 24,
   "id": "be813d55",
   "metadata": {},
   "outputs": [
    {
     "name": "stdout",
     "output_type": "stream",
     "text": [
      "['1982-07-15', '홍길동', 30]\n"
     ]
    }
   ],
   "source": [
    "list1 = ['1982-07-15', '홍길동' , 30]\n",
    "print(list1)"
   ]
  },
  {
   "cell_type": "code",
   "execution_count": 26,
   "id": "85cedb62",
   "metadata": {},
   "outputs": [
    {
     "name": "stdout",
     "output_type": "stream",
     "text": [
      "['첫째', '둘째', 'insert로 추가한 것', '셋째', 'append로 추가한 것']\n"
     ]
    }
   ],
   "source": [
    "list2 = ['첫째','둘째','셋째']\n",
    "list2.append('append로 추가한 것')\n",
    "list2.insert(2,'insert로 추가한 것')\n",
    "\n",
    "print(list2)"
   ]
  },
  {
   "cell_type": "code",
   "execution_count": 27,
   "id": "ad525a68",
   "metadata": {},
   "outputs": [
    {
     "name": "stdout",
     "output_type": "stream",
     "text": [
      "삭제전 목록: ['첫째', '둘째', 'insert로 추가한 것', '셋째', 'append로 추가한 것']\n",
      "삭제후 목록: ['첫째', '둘째', '셋째', 'append로 추가한 것']\n",
      "remove로 삭제 후 목록: ['첫째', '둘째', '셋째']\n"
     ]
    }
   ],
   "source": [
    "print('삭제전 목록:' , list2)\n",
    "del list2[2]\n",
    "print('삭제후 목록:', list2)\n",
    "\n",
    "list2.remove('append로 추가한 것')\n",
    "print('remove로 삭제 후 목록:', list2)"
   ]
  },
  {
   "cell_type": "code",
   "execution_count": 28,
   "id": "6dc3ecd1",
   "metadata": {},
   "outputs": [
    {
     "name": "stdout",
     "output_type": "stream",
     "text": [
      "오름차순(기본)정렬후: [1, 2, 3, 5, 8]\n",
      "내림차순 정렬후: [8, 5, 3, 2, 1]\n",
      "영어 정렬: ['Apple', 'apple', 'banana', 'cherry']\n",
      "한글 정렬: ['김유신', '이순신', '전우치', '홍길동']\n"
     ]
    }
   ],
   "source": [
    "list3 = [3,1,5,8,2]\n",
    "list3.sort( )\n",
    "print('오름차순(기본)정렬후:' , list3)\n",
    "\n",
    "list3.reverse( )\n",
    "print('내림차순 정렬후:', list3)\n",
    "\n",
    "list4=['banana','apple','cherry','Apple']\n",
    "list4.sort( )\n",
    "print('영어 정렬:',list4)\n",
    "\n",
    "list5=['홍길동','전우치','김유신','이순신']\n",
    "list5.sort( )\n",
    "print('한글 정렬:',list5)"
   ]
  },
  {
   "cell_type": "code",
   "execution_count": null,
   "id": "fdd85bc6",
   "metadata": {},
   "outputs": [],
   "source": []
  }
 ],
 "metadata": {
  "kernelspec": {
   "display_name": "Python 3 (ipykernel)",
   "language": "python",
   "name": "python3"
  },
  "language_info": {
   "codemirror_mode": {
    "name": "ipython",
    "version": 3
   },
   "file_extension": ".py",
   "mimetype": "text/x-python",
   "name": "python",
   "nbconvert_exporter": "python",
   "pygments_lexer": "ipython3",
   "version": "3.12.4"
  }
 },
 "nbformat": 4,
 "nbformat_minor": 5
}
