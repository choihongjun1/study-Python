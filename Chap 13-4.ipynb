{
 "cells": [
  {
   "cell_type": "code",
   "execution_count": 1,
   "metadata": {
    "scrolled": true
   },
   "outputs": [
    {
     "name": "stdout",
     "output_type": "stream",
     "text": [
      "====================================================================================================\n",
      " 이 크롤러는 구글 사이트 자동 검색용 웹크롤러입니다.\n",
      "====================================================================================================\n"
     ]
    },
    {
     "name": "stdin",
     "output_type": "stream",
     "text": [
      "1. 수집할 자료의 키워드는 무엇입니까? (여러 개일 경우 , 로 구분하여 입력):  여행\n"
     ]
    },
    {
     "name": "stdout",
     "output_type": "stream",
     "text": [
      "\n",
      "\n"
     ]
    }
   ],
   "source": [
    "# google 자동 검색\n",
    "\n",
    "from selenium import webdriver\n",
    "from selenium.webdriver.common.by import By\n",
    "from selenium.webdriver.chrome.service import Service\n",
    "import time          \n",
    "\n",
    "print(\"=\" * 100)\n",
    "print(\" 이 크롤러는 구글 사이트 자동 검색용 웹크롤러입니다.\")\n",
    "print(\"=\" * 100)\n",
    "query_txt = input('1. 수집할 자료의 키워드는 무엇입니까? (여러 개일 경우 , 로 구분하여 입력): ')\n",
    "print(\"\\n\")\n",
    "\n",
    "chrome_path = \"chromedriver.exe\"\n",
    "service = Service(chrome_path)\n",
    "driver = webdriver.Chrome(service=service)\n",
    "\n",
    "url = 'http://www.google.co.kr/'\n",
    "driver.get(url)\n",
    "time.sleep(5)\n",
    "\n",
    "element = driver.find_element(By.NAME, \"q\")\n",
    "element.click()\n",
    "element.send_keys(query_txt)  \n",
    "element.send_keys(\"\\n\") \n"
   ]
  },
  {
   "cell_type": "code",
   "execution_count": null,
   "metadata": {},
   "outputs": [],
   "source": []
  }
 ],
 "metadata": {
  "kernelspec": {
   "display_name": "Python 3 (ipykernel)",
   "language": "python",
   "name": "python3"
  },
  "language_info": {
   "codemirror_mode": {
    "name": "ipython",
    "version": 3
   },
   "file_extension": ".py",
   "mimetype": "text/x-python",
   "name": "python",
   "nbconvert_exporter": "python",
   "pygments_lexer": "ipython3",
   "version": "3.12.4"
  }
 },
 "nbformat": 4,
 "nbformat_minor": 4
}
