{
 "cells": [
  {
   "cell_type": "code",
   "execution_count": 1,
   "id": "09c96297",
   "metadata": {},
   "outputs": [
    {
     "name": "stdout",
     "output_type": "stream",
     "text": [
      "정상적인 경우\n",
      "숫자 1개를 입력하세요:10\n",
      "10\n",
      "\n",
      "\n",
      "예외가 발생하는 경우\n",
      "숫자 1개를 입력하세요:A\n"
     ]
    },
    {
     "ename": "ValueError",
     "evalue": "invalid literal for int() with base 10: 'A'",
     "output_type": "error",
     "traceback": [
      "\u001b[1;31m---------------------------------------------------------------------------\u001b[0m",
      "\u001b[1;31mValueError\u001b[0m                                Traceback (most recent call last)",
      "\u001b[1;32m~\\AppData\\Local\\Temp/ipykernel_7792/2584588260.py\u001b[0m in \u001b[0;36m<module>\u001b[1;34m\u001b[0m\n\u001b[0;32m      9\u001b[0m \u001b[1;31m#예외가 발생하는 경우\u001b[0m\u001b[1;33m\u001b[0m\u001b[1;33m\u001b[0m\u001b[1;33m\u001b[0m\u001b[0m\n\u001b[0;32m     10\u001b[0m \u001b[0mprint\u001b[0m\u001b[1;33m(\u001b[0m\u001b[1;34m'예외가 발생하는 경우'\u001b[0m\u001b[1;33m)\u001b[0m\u001b[1;33m\u001b[0m\u001b[1;33m\u001b[0m\u001b[0m\n\u001b[1;32m---> 11\u001b[1;33m \u001b[0mno2\u001b[0m \u001b[1;33m=\u001b[0m \u001b[0mint\u001b[0m\u001b[1;33m(\u001b[0m\u001b[0minput\u001b[0m\u001b[1;33m(\u001b[0m\u001b[1;34m'숫자 1개를 입력하세요:'\u001b[0m\u001b[1;33m)\u001b[0m\u001b[1;33m)\u001b[0m\u001b[1;33m\u001b[0m\u001b[1;33m\u001b[0m\u001b[0m\n\u001b[0m",
      "\u001b[1;31mValueError\u001b[0m: invalid literal for int() with base 10: 'A'"
     ]
    }
   ],
   "source": [
    "#예외처리\n",
    "\n",
    "print('정상적인 경우')\n",
    "no1 = int(input('숫자 1개를 입력하세요:'))\n",
    "print(no1)\n",
    "\n",
    "print('\\n')\n",
    "print('예외가 발생하는 경우')\n",
    "no2 = int(input('숫자 1개를 입력하세요:'))\n"
   ]
  },
  {
   "cell_type": "code",
   "execution_count": 2,
   "id": "d7e7f0f0",
   "metadata": {},
   "outputs": [
    {
     "name": "stdout",
     "output_type": "stream",
     "text": [
      "예외처리가 발생하는 경우\n",
      "숫자 1개를 입력하세요:A\n",
      "숫자를 입력하세요\n"
     ]
    }
   ],
   "source": [
    "print('예외처리가 발생하는 경우')\n",
    "try :\n",
    "    no2=int(input('숫자 1개를 입력하세요:'))\n",
    "except ValueError :\n",
    "    print('숫자를 입력하세요')"
   ]
  },
  {
   "cell_type": "code",
   "execution_count": 3,
   "id": "a1f0a447",
   "metadata": {},
   "outputs": [
    {
     "ename": "ZeroDivisionError",
     "evalue": "division by zero",
     "output_type": "error",
     "traceback": [
      "\u001b[1;31m---------------------------------------------------------------------------\u001b[0m",
      "\u001b[1;31mZeroDivisionError\u001b[0m                         Traceback (most recent call last)",
      "\u001b[1;32m~\\AppData\\Local\\Temp/ipykernel_7792/313535132.py\u001b[0m in \u001b[0;36m<module>\u001b[1;34m\u001b[0m\n\u001b[0;32m      2\u001b[0m \u001b[0mno1\u001b[0m \u001b[1;33m=\u001b[0m \u001b[1;36m10\u001b[0m\u001b[1;33m\u001b[0m\u001b[1;33m\u001b[0m\u001b[0m\n\u001b[0;32m      3\u001b[0m \u001b[0mno2\u001b[0m \u001b[1;33m=\u001b[0m \u001b[1;36m0\u001b[0m\u001b[1;33m\u001b[0m\u001b[1;33m\u001b[0m\u001b[0m\n\u001b[1;32m----> 4\u001b[1;33m \u001b[0mprint\u001b[0m\u001b[1;33m(\u001b[0m\u001b[0mno1\u001b[0m \u001b[1;33m/\u001b[0m \u001b[0mno2\u001b[0m\u001b[1;33m)\u001b[0m\u001b[1;33m\u001b[0m\u001b[1;33m\u001b[0m\u001b[0m\n\u001b[0m",
      "\u001b[1;31mZeroDivisionError\u001b[0m: division by zero"
     ]
    }
   ],
   "source": [
    "no1 = 10\n",
    "no2 = 0\n",
    "print(no1 / no2)"
   ]
  },
  {
   "cell_type": "code",
   "execution_count": 4,
   "id": "9d7414f9",
   "metadata": {},
   "outputs": [
    {
     "name": "stdout",
     "output_type": "stream",
     "text": [
      "0으로 나눌 수 없습니다\n"
     ]
    }
   ],
   "source": [
    "try :\n",
    "    print(no1 / no2)\n",
    "except ZeroDivisionError :\n",
    "    print('0으로 나눌 수 없습니다')"
   ]
  },
  {
   "cell_type": "code",
   "execution_count": 5,
   "id": "4e1a72ca",
   "metadata": {},
   "outputs": [
    {
     "name": "stdout",
     "output_type": "stream",
     "text": [
      "예외 상황이 발생했습니다\n"
     ]
    }
   ],
   "source": [
    "try :\n",
    "    print(no1 / no2)\n",
    "except( ValueError , ZeroDivisionError) :\n",
    "    print('예외 상황이 발생했습니다')"
   ]
  },
  {
   "cell_type": "code",
   "execution_count": 6,
   "id": "5764961a",
   "metadata": {},
   "outputs": [
    {
     "name": "stdout",
     "output_type": "stream",
     "text": [
      "0으로 나눌 수 없습니다\n"
     ]
    }
   ],
   "source": [
    "no1 = 10\n",
    "no2 = 0\n",
    "\n",
    "try :\n",
    "    print(no1 / no2)\n",
    "except ZeroDivisionError :\n",
    "    print('0으로 나눌 수 없습니다')\n",
    "except ValueError :\n",
    "    print('잘못된 값입니다')"
   ]
  },
  {
   "cell_type": "code",
   "execution_count": 7,
   "id": "8d07fcd7",
   "metadata": {},
   "outputs": [
    {
     "name": "stdout",
     "output_type": "stream",
     "text": [
      "예외가 발생했습니다\n"
     ]
    }
   ],
   "source": [
    "no1= 10\n",
    "no2 = 0\n",
    "\n",
    "try :\n",
    "    print(no1 / no2)\n",
    "except :\n",
    "    print('예외가 발생했습니다')"
   ]
  },
  {
   "cell_type": "code",
   "execution_count": 8,
   "id": "6f654908",
   "metadata": {},
   "outputs": [
    {
     "name": "stdout",
     "output_type": "stream",
     "text": [
      "숫자만 입력하세요:3\n",
      "입력하신 숫자는 3 입니다\n"
     ]
    }
   ],
   "source": [
    "try :\n",
    "    no=int(input('숫자만 입력하세요:'))\n",
    "except :\n",
    "    print('꼭 숫자만 입력하세요!!')\n",
    "else :\n",
    "    print('입력하신 숫자는 %s 입니다' %no)"
   ]
  },
  {
   "cell_type": "code",
   "execution_count": 1,
   "id": "ff86998f",
   "metadata": {},
   "outputs": [
    {
     "name": "stdout",
     "output_type": "stream",
     "text": [
      "숫자를 입력하세요4\n",
      "입력한 숫자는 4입니다\n",
      "finally는 무조건 실행됩니다\n"
     ]
    }
   ],
   "source": [
    "try :\n",
    "    num = int(input('숫자를 입력하세요'))\n",
    "except ValueError :\n",
    "    print('숫자가 아닙니다')\n",
    "else :\n",
    "    print('입력한 숫자는 %s입니다' %num)\n",
    "finally :\n",
    "    print('finally는 무조건 실행됩니다')"
   ]
  },
  {
   "cell_type": "code",
   "execution_count": 2,
   "id": "a15b5b76",
   "metadata": {},
   "outputs": [
    {
     "name": "stdout",
     "output_type": "stream",
     "text": [
      "숫자를 입력하세요aaa\n",
      "숫자가 아닙니다\n",
      "finally는 무조건 실행됩니다\n"
     ]
    }
   ],
   "source": [
    "try :\n",
    "    num = int(input('숫자를 입력하세요:'))\n",
    "except ValueError :\n",
    "    print('숫자가 아닙니다')\n",
    "else :\n",
    "    print('입력한 숫자는 %s입니다' %num)\n",
    "finally :\n",
    "    print('finally는 무조건 실행됩니다')"
   ]
  },
  {
   "cell_type": "code",
   "execution_count": 3,
   "id": "e68d68ae",
   "metadata": {},
   "outputs": [
    {
     "name": "stdout",
     "output_type": "stream",
     "text": [
      "숫자를 입력하세요:3\n",
      "0보다 큼\n"
     ]
    }
   ],
   "source": [
    "try :\n",
    "    num = int(input('숫자를 입력하세요:'))\n",
    "    raise ValueError('0보다 작음','0임','0보다 큼')\n",
    "except ValueError as e :\n",
    "    if num < 0:\n",
    "        print(e.args[0])\n",
    "    elif num == 0 :\n",
    "        print(e.args[1])\n",
    "    else :\n",
    "        print(e.args[2])\n",
    "    "
   ]
  },
  {
   "cell_type": "code",
   "execution_count": 4,
   "id": "6de54f44",
   "metadata": {},
   "outputs": [
    {
     "name": "stdout",
     "output_type": "stream",
     "text": [
      "숫자를 입력하세요:0\n",
      "0임\n"
     ]
    }
   ],
   "source": [
    "try :\n",
    "    num = int(input('숫자를 입력하세요:'))\n",
    "    raise ValueError('0보다 작음','0임','0보다 큼')\n",
    "except ValueError as e :\n",
    "    if num < 0:\n",
    "        print(e.args[0])\n",
    "    elif num == 0 :\n",
    "        print(e.args[1])\n",
    "    else :\n",
    "        print(e.args[2])\n",
    "    "
   ]
  },
  {
   "cell_type": "code",
   "execution_count": 1,
   "id": "2cae5bcb",
   "metadata": {},
   "outputs": [
    {
     "name": "stdin",
     "output_type": "stream",
     "text": [
      " 몇 건을 출력할까요?:  10\n"
     ]
    },
    {
     "name": "stdout",
     "output_type": "stream",
     "text": [
      "\n",
      "\n",
      "홍길동\n",
      "\n",
      "일지매\n",
      "\n",
      "전우치\n",
      "\n",
      "강감찬\n",
      "\n",
      "신사임당\n",
      "\n",
      "모든 행이 출력 완료되었습니다\n"
     ]
    }
   ],
   "source": [
    "f = open(\"예외처리연습.txt\")\n",
    "txt = f.readlines()\n",
    "txt\n",
    "\n",
    "no = int(input(\" 몇 건을 출력할까요?: \"))\n",
    "print(\"\\n\")\n",
    "\n",
    "for i in range(0,no) :\n",
    "    try :\n",
    "        print(txt[i]) \n",
    "    except IndexError :\n",
    "        print(\"모든 행이 출력 완료되었습니다\")\n",
    "        break"
   ]
  },
  {
   "cell_type": "code",
   "execution_count": 3,
   "id": "0d318f12",
   "metadata": {},
   "outputs": [
    {
     "ename": "TypeError",
     "evalue": "unsupported operand type(s) for +=: 'int' and 'str'",
     "output_type": "error",
     "traceback": [
      "\u001b[1;31m---------------------------------------------------------------------------\u001b[0m",
      "\u001b[1;31mTypeError\u001b[0m                                 Traceback (most recent call last)",
      "Cell \u001b[1;32mIn[3], line 9\u001b[0m\n\u001b[0;32m      7\u001b[0m data3 \u001b[38;5;241m=\u001b[39m \u001b[38;5;241m0\u001b[39m\n\u001b[0;32m      8\u001b[0m \u001b[38;5;28;01mfor\u001b[39;00m i \u001b[38;5;129;01min\u001b[39;00m data2 :\n\u001b[1;32m----> 9\u001b[0m     data3 \u001b[38;5;241m+\u001b[39m\u001b[38;5;241m=\u001b[39m i\n\u001b[0;32m     10\u001b[0m data3\n",
      "\u001b[1;31mTypeError\u001b[0m: unsupported operand type(s) for +=: 'int' and 'str'"
     ]
    }
   ],
   "source": [
    "import pandas as pd \n",
    "\n",
    "data1 = pd.read_excel(\"score.xlsx\",sheet_name='Sheet1' )\n",
    "data2 = data1['score']\n",
    "data2\n",
    "\n",
    "data3 = 0\n",
    "for i in data2 :\n",
    "    data3 += i\n",
    "data3"
   ]
  },
  {
   "cell_type": "code",
   "execution_count": 5,
   "id": "88277f6b",
   "metadata": {},
   "outputs": [
    {
     "data": {
      "text/plain": [
       "120"
      ]
     },
     "execution_count": 5,
     "metadata": {},
     "output_type": "execute_result"
    }
   ],
   "source": [
    "data3=0\n",
    "for i in data2 :\n",
    "    try :\n",
    "        data3 += i \n",
    "    except TypeError :\n",
    "        continue\n",
    "        \n",
    "data3"
   ]
  },
  {
   "cell_type": "code",
   "execution_count": null,
   "id": "0b5d6176-5c10-4b1b-8c73-e2addfbb944e",
   "metadata": {},
   "outputs": [],
   "source": []
  }
 ],
 "metadata": {
  "kernelspec": {
   "display_name": "Python 3 (ipykernel)",
   "language": "python",
   "name": "python3"
  },
  "language_info": {
   "codemirror_mode": {
    "name": "ipython",
    "version": 3
   },
   "file_extension": ".py",
   "mimetype": "text/x-python",
   "name": "python",
   "nbconvert_exporter": "python",
   "pygments_lexer": "ipython3",
   "version": "3.12.4"
  }
 },
 "nbformat": 4,
 "nbformat_minor": 5
}
